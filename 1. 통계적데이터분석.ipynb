{
 "cells": [
  {
   "cell_type": "markdown",
   "id": "409b4d95",
   "metadata": {},
   "source": [
    "# 제목\n",
    "## 소제목\n",
    "### 소소제목\n",
    "\n",
    "본문은 그냥 작성한다\n",
    "$$f(x) = 3x+10$$\n",
    "- 목록\n",
    "- 목록2\n",
    "    - 세부목록\n",
    "        - 세세부목록"
   ]
  },
  {
   "cell_type": "code",
   "execution_count": 3,
   "id": "30013615",
   "metadata": {},
   "outputs": [
    {
     "data": {
      "text/plain": [
       "40"
      ]
     },
     "execution_count": 3,
     "metadata": {},
     "output_type": "execute_result"
    }
   ],
   "source": [
    "a=10\n",
    "b=30\n",
    "a+b"
   ]
  },
  {
   "cell_type": "code",
   "execution_count": 4,
   "id": "2b83e30e",
   "metadata": {},
   "outputs": [
    {
     "name": "stdout",
     "output_type": "stream",
     "text": [
      "300\n"
     ]
    }
   ],
   "source": [
    "#a와 b를 곱한다\n",
    "c = a * b\n",
    "print(c)"
   ]
  },
  {
   "cell_type": "code",
   "execution_count": 5,
   "id": "ead9ae87",
   "metadata": {},
   "outputs": [],
   "source": [
    "d=a / b"
   ]
  }
 ],
 "metadata": {
  "kernelspec": {
   "display_name": "stat",
   "language": "python",
   "name": "python3"
  },
  "language_info": {
   "codemirror_mode": {
    "name": "ipython",
    "version": 3
   },
   "file_extension": ".py",
   "mimetype": "text/x-python",
   "name": "python",
   "nbconvert_exporter": "python",
   "pygments_lexer": "ipython3",
   "version": "3.10.18"
  }
 },
 "nbformat": 4,
 "nbformat_minor": 5
}
