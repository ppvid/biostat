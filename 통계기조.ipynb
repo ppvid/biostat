{
 "cells": [
  {
   "cell_type": "markdown",
   "id": "371d67a5",
   "metadata": {},
   "source": [
    "# Scipy 라이브러리\n",
    "- scipy는 과학 및 수학 문제 해결을 목적으로 사용되는 오픈소스 python 라이브러리\n",
    "- Numpy 를 기반으로 한 데이터를 조작 및 시각화 패키지\n",
    "- `scipy.stats`라는 하위 패키지에서 다양한 분포에 대한 통계 함수를 제공\n",
    "    - 이산형 분포: 이항분포, 포아송분포,...\n",
    "    - 연속형 분포: 정규분포, t-분포, F-분포, 카이제곱분포,...\n",
    "- 이 외에도 여러 하위 패키지가 있음(클러스터링, 주파수 등)"
   ]
  },
  {
   "cell_type": "markdown",
   "id": "f3069821",
   "metadata": {},
   "source": [
    "### scipy.stats\n",
    "대표적인  확률분포 이름\n",
    "- norm: 정규분포\n",
    "- t: t-분포\n",
    "- f: F-분포\n",
    "- chi2: 카이제곱 분포\n",
    "- bernoulli: 베르누이 분포\n",
    "- binom: 이항분포\n",
    "- poisson: 포아송 분포\n",
    "- uniform: 균일분포\n",
    "- expon: 지수분포\n",
    "\n",
    "확률분포 클래스의 메서드\n",
    "- pdf: 확률밀도함수 (probability density function)\n",
    "- cdf: 누적분포함수 (cumulative distribution function)\n",
    "- ppf: 누적분포함수의 역함수 (inverse cumulative distribution function)\n",
    "- rvs: 랜덤 표본 생성 (random variates sampling) \n",
    "\n",
    "*메서드: 객체지향 프로그래밍(자주 쓰는 특별한 구조들을 클래스라는 것으로 정의하고 클래스 안에 여러 변수와 함수를 사용하게 하는 것)에서 클래스 안에 포함된 함수   \n",
    "*메서드나 클래스의 변수를 사용할 때에는 새로운 객체(오브젝트)를 만들어서 클래스 지정 등으로 활용하게 됨. 객체에 메서드를 붙여서 활용"
   ]
  },
  {
   "cell_type": "markdown",
   "id": "9ee82702",
   "metadata": {},
   "source": [
    "### 정규분포\n",
    "\n",
    "확률 밀도 함수를 볼 때 미지수(모르는 값, 모수의 값)는 시그마, 뮤 값임(평균과 분산)\n",
    "확률 변수 x의 값은 알려진 값이다.   \n",
    "확률 변수도 특정 범위를 가지는 경우가 있다. 카이제곱이나 F-분포 같은 경우는 음수값을 가질 수 없고 0부터 무한대의 값을 확률 변수가 가질 수 있다.   \n",
    "시그마도 표준편차이기 때문에 항상 양수여야 함.   \n",
    "표준 정규분포: 평균이 0이고 분산이 1인 정규분포. z로 보통 표기함 "
   ]
  },
  {
   "cell_type": "markdown",
   "id": "83c359c4",
   "metadata": {},
   "source": [
    "### 확률밀도함수 계산\n",
    "- scipy.stats.norm.pdf(x,loc=0,scale=1)\n",
    "    - x: 확률변수의 값\n",
    "    - loc: 평균(뮤)\n",
    "    - scale: 표준편차(시그마)\n",
    "    \n",
    "*Python 개념 계층 구조 \n",
    "Library  \n",
    "└── Package  \n",
    "    └── Module (.py file)  \n",
    "        ├── Class  \n",
    "        │   ├── Method (function)  \n",
    "        │   └── Attribute (variable)  \n",
    "        ├── Function  \n",
    "        └── Variable\n",
    "\n",
    "*scipy는 라이브러리. scipy 내부에 stats라는 패키지가 존재하는 것"
   ]
  },
  {
   "cell_type": "code",
   "execution_count": 12,
   "id": "e964c925",
   "metadata": {},
   "outputs": [
    {
     "data": {
      "text/plain": [
       "np.float64(0.3989422804014327)"
      ]
     },
     "execution_count": 12,
     "metadata": {},
     "output_type": "execute_result"
    }
   ],
   "source": [
    "#scipy 라이브러리 안에 있는 stats 패키지를 import\n",
    "from scipy import stats\n",
    "#stats 패키지 안에 있는 norm 클래스(함수)를 정의\n",
    "#norm클래스 안에 있는 pdf라는 메서드를 불러와 사용\n",
    "#확률 변수의 값이 0일 때, N(0,1)의 확률밀도함수 값 계산\n",
    "stats.norm.pdf(0,loc=0, scale=1)\n",
    "#loc, scale은 매개 변수로 라이브러리마다 이름이 다를 수 있음"
   ]
  },
  {
   "cell_type": "markdown",
   "id": "d5c9b386",
   "metadata": {},
   "source": [
    "scipy는 numpy를 기본 베이스로 가져가서 결과값에 np가 나타남   "
   ]
  },
  {
   "cell_type": "code",
   "execution_count": 13,
   "id": "cdf87e6d",
   "metadata": {},
   "outputs": [
    {
     "data": {
      "text/plain": [
       "array([0.39894228, 0.24197072, 0.05399097])"
      ]
     },
     "execution_count": 13,
     "metadata": {},
     "output_type": "execute_result"
    }
   ],
   "source": [
    "#확률 변수 값을 리스트로 만들어서 pdf 메서드에 넣으면 각 확률밀도함수 값을 계산해줌\n",
    "stats.norm.pdf([0,1,2],loc=0, scale=1)"
   ]
  },
  {
   "cell_type": "code",
   "execution_count": 14,
   "id": "3c6be070",
   "metadata": {},
   "outputs": [
    {
     "data": {
      "text/plain": [
       "np.float64(0.5)"
      ]
     },
     "execution_count": 14,
     "metadata": {},
     "output_type": "execute_result"
    }
   ],
   "source": [
    "#누적분포함수\n",
    "stats.norm.cdf(10,loc=10, scale=5)"
   ]
  },
  {
   "cell_type": "markdown",
   "id": "78afac95",
   "metadata": {},
   "source": [
    "| 함수                  | 의미             | 예시 결과      |\n",
    "| ------------------- | -------------- | ---------- |\n",
    "| `stats.norm.pdf(0)` | x=0에서의 밀도 (높이) | `≈ 0.3989` |\n",
    "| `stats.norm.cdf(0)` | x≤0일 확률 (누적)   | `0.5`      |\n"
   ]
  },
  {
   "cell_type": "markdown",
   "id": "aaeeae54",
   "metadata": {},
   "source": [
    "누적분포함수의 역함수\n",
    "- 특정 확률값에 해당하는 확률변수의 값을 계산\n",
    "- 추후 가설검정에서 유의수준이 a(알파)일 때 확률변수의 값(임계치)를 계산하는 데 사용 "
   ]
  },
  {
   "cell_type": "code",
   "execution_count": 15,
   "id": "43245722",
   "metadata": {},
   "outputs": [
    {
     "data": {
      "text/plain": [
       "np.float64(10.0)"
      ]
     },
     "execution_count": 15,
     "metadata": {},
     "output_type": "execute_result"
    }
   ],
   "source": [
    "stats.norm.ppf(0.5,loc=10,scale=5)"
   ]
  },
  {
   "cell_type": "code",
   "execution_count": 16,
   "id": "aef8a07b",
   "metadata": {},
   "outputs": [
    {
     "data": {
      "text/plain": [
       "array([ 1.77573187, 10.        , 18.22426813])"
      ]
     },
     "execution_count": 16,
     "metadata": {},
     "output_type": "execute_result"
    }
   ],
   "source": [
    "stats.norm.ppf([0.05,0.5,0.95],loc=10,scale=5)"
   ]
  },
  {
   "cell_type": "markdown",
   "id": "67083812",
   "metadata": {},
   "source": [
    "### Numpy 라이브러리"
   ]
  },
  {
   "cell_type": "markdown",
   "id": "17c51d2c",
   "metadata": {},
   "source": [
    "np.set_printoptions(precision=n): 소수점 4자리까지 표기   \n",
    "np.set_printoptions(supress=True): 지수표기법 사용하지 않고 일반 소수점 표기"
   ]
  },
  {
   "cell_type": "code",
   "execution_count": 17,
   "id": "1e76b587",
   "metadata": {},
   "outputs": [],
   "source": [
    "import matplotlib.pyplot as plt\n",
    "import numpy as np\n",
    "\n",
    "import koreanize_matplotlib #한글 깨짐 방지\n"
   ]
  },
  {
   "cell_type": "markdown",
   "id": "6bef8293",
   "metadata": {},
   "source": [
    "Numpy 라이브러리 사용하면 반복문 없이 선형대수 관련된 빠른 연산 가능   \n",
    "np.sum() : 합계   \n",
    "np.cumprod : 누적곱     \n",
    "np.cumsum : 누적합  \n",
    "np.prod : 곱    \n",
    "np.argmin, np.argmax : 최소값, 최대값의 인덱스  \n",
    "np.diff: 차분, 빼는 것  "
   ]
  },
  {
   "cell_type": "code",
   "execution_count": null,
   "id": "ef20c236",
   "metadata": {},
   "outputs": [
    {
     "name": "stdout",
     "output_type": "stream",
     "text": [
      "np.sum(arr) = np.int64(51)\n",
      "np.prod(arr) = np.int64(15000)\n",
      "np.cumsum(arr)=array([ 1, 11, 31, 46, 51])\n",
      "np.cumprod(arr)=array([    1,    10,   200,  3000, 15000])\n",
      "np.diff(arr)=array([  9,  10,  -5, -10])\n",
      "np.exp(arr)=array([2.72e+00, 2.20e+04, 4.85e+08, 3.27e+06, 1.48e+02])\n"
     ]
    }
   ],
   "source": [
    "import numpy as np\n",
    "np.set_printoptions(suppress=True, precision=2)\n",
    "\n",
    "arr=[1,10,20,15,5]\n",
    "print(f'{np.sum(arr) = }')\n",
    "print(f'{np.prod(arr) = }')\n",
    "print(f'{np.cumsum(arr)=}')\n",
    "print(f'{np.cumprod(arr)=}')\n",
    "print(f'{np.diff(arr)=}')\n",
    "print(f'{np.exp(arr)=}') #set_printoptions(suppress=True, precision=2)로 설정했는데 적용 안되게 출력됨.. "
   ]
  },
  {
   "cell_type": "markdown",
   "id": "a475f5e2",
   "metadata": {},
   "source": [
    "기술통계량 계산 함수    \n",
    "- np.mean()   \n",
    "- np.median() \n",
    "- np.var()    \n",
    "    - ddof=1 : 비편향 분산 계산, 표본분산 구할 때 항상 지정 해줘야 함(모분산을 구할 때는 지정 안 해줘도 됨, 디폴드가 0임)   \n",
    "- IQR 구하는 법\n",
    "    - q1,q3=np.percentile(data,[25,75])   #백분위수 계산    \n",
    "    - q1,q3=np.quantile(data,[0.25,0.75])   #사분위수 계산   \n",
    "    - IQR = q3-q1"
   ]
  },
  {
   "cell_type": "markdown",
   "id": "5b65824c",
   "metadata": {},
   "source": [
    "### Pandas 라이브러리\n",
    "데이터 프레임 형식(Dataframe)과 시리즈(Series)를 다룰 수 있게 해주는 라이브러리"
   ]
  },
  {
   "cell_type": "markdown",
   "id": "b9722871",
   "metadata": {},
   "source": [
    "pd.options.display.float_format ='{:.2f}'.format #데이터값 실수, 소수점 둘째자리까지 표시 설정 "
   ]
  },
  {
   "cell_type": "code",
   "execution_count": null,
   "id": "cf03d80a",
   "metadata": {},
   "outputs": [
    {
     "data": {
      "text/html": [
       "<div>\n",
       "<style scoped>\n",
       "    .dataframe tbody tr th:only-of-type {\n",
       "        vertical-align: middle;\n",
       "    }\n",
       "\n",
       "    .dataframe tbody tr th {\n",
       "        vertical-align: top;\n",
       "    }\n",
       "\n",
       "    .dataframe thead th {\n",
       "        text-align: right;\n",
       "    }\n",
       "</style>\n",
       "<table border=\"1\" class=\"dataframe\">\n",
       "  <thead>\n",
       "    <tr style=\"text-align: right;\">\n",
       "      <th></th>\n",
       "      <th>name</th>\n",
       "      <th>height</th>\n",
       "      <th>weight</th>\n",
       "    </tr>\n",
       "  </thead>\n",
       "  <tbody>\n",
       "    <tr>\n",
       "      <th>0</th>\n",
       "      <td>김홍익</td>\n",
       "      <td>170</td>\n",
       "      <td>70</td>\n",
       "    </tr>\n",
       "    <tr>\n",
       "      <th>1</th>\n",
       "      <td>이영희</td>\n",
       "      <td>160</td>\n",
       "      <td>60</td>\n",
       "    </tr>\n",
       "    <tr>\n",
       "      <th>2</th>\n",
       "      <td>박철수</td>\n",
       "      <td>180</td>\n",
       "      <td>80</td>\n",
       "    </tr>\n",
       "    <tr>\n",
       "      <th>3</th>\n",
       "      <td>최영수</td>\n",
       "      <td>175</td>\n",
       "      <td>75</td>\n",
       "    </tr>\n",
       "    <tr>\n",
       "      <th>4</th>\n",
       "      <td>이순신</td>\n",
       "      <td>165</td>\n",
       "      <td>65</td>\n",
       "    </tr>\n",
       "    <tr>\n",
       "      <th>5</th>\n",
       "      <td>강감찬</td>\n",
       "      <td>185</td>\n",
       "      <td>85</td>\n",
       "    </tr>\n",
       "    <tr>\n",
       "      <th>6</th>\n",
       "      <td>홍길동</td>\n",
       "      <td>172</td>\n",
       "      <td>72</td>\n",
       "    </tr>\n",
       "    <tr>\n",
       "      <th>7</th>\n",
       "      <td>신사임당</td>\n",
       "      <td>168</td>\n",
       "      <td>68</td>\n",
       "    </tr>\n",
       "    <tr>\n",
       "      <th>8</th>\n",
       "      <td>유관순</td>\n",
       "      <td>178</td>\n",
       "      <td>78</td>\n",
       "    </tr>\n",
       "    <tr>\n",
       "      <th>9</th>\n",
       "      <td>윤봉길</td>\n",
       "      <td>177</td>\n",
       "      <td>77</td>\n",
       "    </tr>\n",
       "  </tbody>\n",
       "</table>\n",
       "</div>"
      ],
      "text/plain": [
       "   name  height  weight\n",
       "0   김홍익     170      70\n",
       "1   이영희     160      60\n",
       "2   박철수     180      80\n",
       "3   최영수     175      75\n",
       "4   이순신     165      65\n",
       "5   강감찬     185      85\n",
       "6   홍길동     172      72\n",
       "7  신사임당     168      68\n",
       "8   유관순     178      78\n",
       "9   윤봉길     177      77"
      ]
     },
     "metadata": {},
     "output_type": "display_data"
    }
   ],
   "source": [
    "import pandas as pd\n",
    "pd.options.display.float_format = '{:.2f}'.format\n",
    "df=pd.DataFrame({\n",
    "    'name': ['김홍익','이영희','박철수','최영수','이순신','강감찬', '홍길동','신사임당','유관순','윤봉길'],\n",
    "    'height': [170, 160, 180, 175, 165, 185, 172, 168, 178, 177],\n",
    "    'weight': [70, 60, 80, 75, 65, 85, 72, 68, 78, 77]\n",
    "})\n",
    "display(df) #print(df)를 하면 문자열로 출력됨"
   ]
  },
  {
   "cell_type": "code",
   "execution_count": null,
   "id": "df715886",
   "metadata": {},
   "outputs": [
    {
     "data": {
      "text/plain": [
       "height   173.00\n",
       "weight    73.00\n",
       "dtype: float64"
      ]
     },
     "execution_count": 34,
     "metadata": {},
     "output_type": "execute_result"
    }
   ],
   "source": [
    "df.mean(numeric_only=True) \n",
    "#numeric_only=True라고 숫자형 데이터만 계산하라고 지시해야 함"
   ]
  },
  {
   "cell_type": "code",
   "execution_count": null,
   "id": "f175a23b",
   "metadata": {},
   "outputs": [
    {
     "name": "stdout",
     "output_type": "stream",
     "text": [
      "<class 'pandas.core.frame.DataFrame'>\n",
      "RangeIndex: 10 entries, 0 to 9\n",
      "Data columns (total 3 columns):\n",
      " #   Column  Non-Null Count  Dtype \n",
      "---  ------  --------------  ----- \n",
      " 0   name    10 non-null     object\n",
      " 1   height  10 non-null     int64 \n",
      " 2   weight  10 non-null     int64 \n",
      "dtypes: int64(2), object(1)\n",
      "memory usage: 368.0+ bytes\n"
     ]
    },
    {
     "data": {
      "text/plain": [
       "None"
      ]
     },
     "metadata": {},
     "output_type": "display_data"
    },
    {
     "data": {
      "text/plain": [
       "['T',\n",
       " '_AXIS_LEN',\n",
       " '_AXIS_ORDERS',\n",
       " '_AXIS_TO_AXIS_NUMBER',\n",
       " '_HANDLED_TYPES',\n",
       " '__abs__',\n",
       " '__add__',\n",
       " '__and__',\n",
       " '__annotations__',\n",
       " '__array__',\n",
       " '__array_priority__',\n",
       " '__array_ufunc__',\n",
       " '__arrow_c_stream__',\n",
       " '__bool__',\n",
       " '__class__',\n",
       " '__contains__',\n",
       " '__copy__',\n",
       " '__dataframe__',\n",
       " '__dataframe_consortium_standard__',\n",
       " '__deepcopy__',\n",
       " '__delattr__',\n",
       " '__delitem__',\n",
       " '__dict__',\n",
       " '__dir__',\n",
       " '__divmod__',\n",
       " '__doc__',\n",
       " '__eq__',\n",
       " '__finalize__',\n",
       " '__floordiv__',\n",
       " '__format__',\n",
       " '__ge__',\n",
       " '__getattr__',\n",
       " '__getattribute__',\n",
       " '__getitem__',\n",
       " '__getstate__',\n",
       " '__gt__',\n",
       " '__hash__',\n",
       " '__iadd__',\n",
       " '__iand__',\n",
       " '__ifloordiv__',\n",
       " '__imod__',\n",
       " '__imul__',\n",
       " '__init__',\n",
       " '__init_subclass__',\n",
       " '__invert__',\n",
       " '__ior__',\n",
       " '__ipow__',\n",
       " '__isub__',\n",
       " '__iter__',\n",
       " '__itruediv__',\n",
       " '__ixor__',\n",
       " '__le__',\n",
       " '__len__',\n",
       " '__lt__',\n",
       " '__matmul__',\n",
       " '__mod__',\n",
       " '__module__',\n",
       " '__mul__',\n",
       " '__ne__',\n",
       " '__neg__',\n",
       " '__new__',\n",
       " '__nonzero__',\n",
       " '__or__',\n",
       " '__pandas_priority__',\n",
       " '__pos__',\n",
       " '__pow__',\n",
       " '__radd__',\n",
       " '__rand__',\n",
       " '__rdivmod__',\n",
       " '__reduce__',\n",
       " '__reduce_ex__',\n",
       " '__repr__',\n",
       " '__rfloordiv__',\n",
       " '__rmatmul__',\n",
       " '__rmod__',\n",
       " '__rmul__',\n",
       " '__ror__',\n",
       " '__round__',\n",
       " '__rpow__',\n",
       " '__rsub__',\n",
       " '__rtruediv__',\n",
       " '__rxor__',\n",
       " '__setattr__',\n",
       " '__setitem__',\n",
       " '__setstate__',\n",
       " '__sizeof__',\n",
       " '__str__',\n",
       " '__sub__',\n",
       " '__subclasshook__',\n",
       " '__truediv__',\n",
       " '__weakref__',\n",
       " '__xor__',\n",
       " '_accessors',\n",
       " '_accum_func',\n",
       " '_agg_examples_doc',\n",
       " '_agg_see_also_doc',\n",
       " '_align_for_op',\n",
       " '_align_frame',\n",
       " '_align_series',\n",
       " '_append',\n",
       " '_arith_method',\n",
       " '_arith_method_with_reindex',\n",
       " '_as_manager',\n",
       " '_attrs',\n",
       " '_box_col_values',\n",
       " '_can_fast_transpose',\n",
       " '_check_inplace_and_allows_duplicate_labels',\n",
       " '_check_is_chained_assignment_possible',\n",
       " '_check_label_or_level_ambiguity',\n",
       " '_check_setitem_copy',\n",
       " '_clear_item_cache',\n",
       " '_clip_with_one_bound',\n",
       " '_clip_with_scalar',\n",
       " '_cmp_method',\n",
       " '_combine_frame',\n",
       " '_consolidate',\n",
       " '_consolidate_inplace',\n",
       " '_construct_axes_dict',\n",
       " '_construct_result',\n",
       " '_constructor',\n",
       " '_constructor_from_mgr',\n",
       " '_constructor_sliced',\n",
       " '_constructor_sliced_from_mgr',\n",
       " '_create_data_for_split_and_tight_to_dict',\n",
       " '_data',\n",
       " '_deprecate_downcast',\n",
       " '_dir_additions',\n",
       " '_dir_deletions',\n",
       " '_dispatch_frame_op',\n",
       " '_drop_axis',\n",
       " '_drop_labels_or_levels',\n",
       " '_ensure_valid_index',\n",
       " '_find_valid_index',\n",
       " '_flags',\n",
       " '_flex_arith_method',\n",
       " '_flex_cmp_method',\n",
       " '_from_arrays',\n",
       " '_from_mgr',\n",
       " '_get_agg_axis',\n",
       " '_get_axis',\n",
       " '_get_axis_name',\n",
       " '_get_axis_number',\n",
       " '_get_axis_resolvers',\n",
       " '_get_block_manager_axis',\n",
       " '_get_bool_data',\n",
       " '_get_cleaned_column_resolvers',\n",
       " '_get_column_array',\n",
       " '_get_index_resolvers',\n",
       " '_get_item_cache',\n",
       " '_get_label_or_level_values',\n",
       " '_get_numeric_data',\n",
       " '_get_value',\n",
       " '_get_values_for_csv',\n",
       " '_getitem_bool_array',\n",
       " '_getitem_multilevel',\n",
       " '_getitem_nocopy',\n",
       " '_getitem_slice',\n",
       " '_gotitem',\n",
       " '_hidden_attrs',\n",
       " '_indexed_same',\n",
       " '_info_axis',\n",
       " '_info_axis_name',\n",
       " '_info_axis_number',\n",
       " '_info_repr',\n",
       " '_init_mgr',\n",
       " '_inplace_method',\n",
       " '_internal_names',\n",
       " '_internal_names_set',\n",
       " '_is_copy',\n",
       " '_is_homogeneous_type',\n",
       " '_is_label_or_level_reference',\n",
       " '_is_label_reference',\n",
       " '_is_level_reference',\n",
       " '_is_mixed_type',\n",
       " '_is_view',\n",
       " '_is_view_after_cow_rules',\n",
       " '_iset_item',\n",
       " '_iset_item_mgr',\n",
       " '_iset_not_inplace',\n",
       " '_item_cache',\n",
       " '_iter_column_arrays',\n",
       " '_ixs',\n",
       " '_logical_func',\n",
       " '_logical_method',\n",
       " '_maybe_align_series_as_frame',\n",
       " '_maybe_cache_changed',\n",
       " '_maybe_update_cacher',\n",
       " '_metadata',\n",
       " '_mgr',\n",
       " '_min_count_stat_function',\n",
       " '_needs_reindex_multi',\n",
       " '_pad_or_backfill',\n",
       " '_protect_consolidate',\n",
       " '_reduce',\n",
       " '_reduce_axis1',\n",
       " '_reindex_axes',\n",
       " '_reindex_multi',\n",
       " '_reindex_with_indexers',\n",
       " '_rename',\n",
       " '_replace_columnwise',\n",
       " '_repr_data_resource_',\n",
       " '_repr_fits_horizontal_',\n",
       " '_repr_fits_vertical_',\n",
       " '_repr_html_',\n",
       " '_repr_latex_',\n",
       " '_reset_cache',\n",
       " '_reset_cacher',\n",
       " '_sanitize_column',\n",
       " '_series',\n",
       " '_set_axis',\n",
       " '_set_axis_name',\n",
       " '_set_axis_nocheck',\n",
       " '_set_is_copy',\n",
       " '_set_item',\n",
       " '_set_item_frame_value',\n",
       " '_set_item_mgr',\n",
       " '_set_value',\n",
       " '_setitem_array',\n",
       " '_setitem_frame',\n",
       " '_setitem_slice',\n",
       " '_shift_with_freq',\n",
       " '_should_reindex_frame_op',\n",
       " '_slice',\n",
       " '_stat_function',\n",
       " '_stat_function_ddof',\n",
       " '_take_with_is_copy',\n",
       " '_to_dict_of_blocks',\n",
       " '_to_latex_via_styler',\n",
       " '_typ',\n",
       " '_update_inplace',\n",
       " '_validate_dtype',\n",
       " '_values',\n",
       " '_where',\n",
       " 'abs',\n",
       " 'add',\n",
       " 'add_prefix',\n",
       " 'add_suffix',\n",
       " 'agg',\n",
       " 'aggregate',\n",
       " 'align',\n",
       " 'all',\n",
       " 'any',\n",
       " 'apply',\n",
       " 'applymap',\n",
       " 'asfreq',\n",
       " 'asof',\n",
       " 'assign',\n",
       " 'astype',\n",
       " 'at',\n",
       " 'at_time',\n",
       " 'attrs',\n",
       " 'axes',\n",
       " 'backfill',\n",
       " 'between_time',\n",
       " 'bfill',\n",
       " 'bool',\n",
       " 'boxplot',\n",
       " 'clip',\n",
       " 'columns',\n",
       " 'combine',\n",
       " 'combine_first',\n",
       " 'compare',\n",
       " 'convert_dtypes',\n",
       " 'copy',\n",
       " 'corr',\n",
       " 'corrwith',\n",
       " 'count',\n",
       " 'cov',\n",
       " 'cummax',\n",
       " 'cummin',\n",
       " 'cumprod',\n",
       " 'cumsum',\n",
       " 'describe',\n",
       " 'diff',\n",
       " 'div',\n",
       " 'divide',\n",
       " 'dot',\n",
       " 'drop',\n",
       " 'drop_duplicates',\n",
       " 'droplevel',\n",
       " 'dropna',\n",
       " 'dtypes',\n",
       " 'duplicated',\n",
       " 'empty',\n",
       " 'eq',\n",
       " 'equals',\n",
       " 'eval',\n",
       " 'ewm',\n",
       " 'expanding',\n",
       " 'explode',\n",
       " 'ffill',\n",
       " 'fillna',\n",
       " 'filter',\n",
       " 'first',\n",
       " 'first_valid_index',\n",
       " 'flags',\n",
       " 'floordiv',\n",
       " 'from_dict',\n",
       " 'from_records',\n",
       " 'ge',\n",
       " 'get',\n",
       " 'groupby',\n",
       " 'gt',\n",
       " 'head',\n",
       " 'height',\n",
       " 'hist',\n",
       " 'iat',\n",
       " 'idxmax',\n",
       " 'idxmin',\n",
       " 'iloc',\n",
       " 'index',\n",
       " 'infer_objects',\n",
       " 'info',\n",
       " 'insert',\n",
       " 'interpolate',\n",
       " 'isetitem',\n",
       " 'isin',\n",
       " 'isna',\n",
       " 'isnull',\n",
       " 'items',\n",
       " 'iterrows',\n",
       " 'itertuples',\n",
       " 'join',\n",
       " 'keys',\n",
       " 'kurt',\n",
       " 'kurtosis',\n",
       " 'last',\n",
       " 'last_valid_index',\n",
       " 'le',\n",
       " 'loc',\n",
       " 'lt',\n",
       " 'map',\n",
       " 'mask',\n",
       " 'max',\n",
       " 'mean',\n",
       " 'median',\n",
       " 'melt',\n",
       " 'memory_usage',\n",
       " 'merge',\n",
       " 'min',\n",
       " 'mod',\n",
       " 'mode',\n",
       " 'mul',\n",
       " 'multiply',\n",
       " 'name',\n",
       " 'ndim',\n",
       " 'ne',\n",
       " 'nlargest',\n",
       " 'notna',\n",
       " 'notnull',\n",
       " 'nsmallest',\n",
       " 'nunique',\n",
       " 'pad',\n",
       " 'pct_change',\n",
       " 'pipe',\n",
       " 'pivot',\n",
       " 'pivot_table',\n",
       " 'plot',\n",
       " 'pop',\n",
       " 'pow',\n",
       " 'prod',\n",
       " 'product',\n",
       " 'quantile',\n",
       " 'query',\n",
       " 'radd',\n",
       " 'rank',\n",
       " 'rdiv',\n",
       " 'reindex',\n",
       " 'reindex_like',\n",
       " 'rename',\n",
       " 'rename_axis',\n",
       " 'reorder_levels',\n",
       " 'replace',\n",
       " 'resample',\n",
       " 'reset_index',\n",
       " 'rfloordiv',\n",
       " 'rmod',\n",
       " 'rmul',\n",
       " 'rolling',\n",
       " 'round',\n",
       " 'rpow',\n",
       " 'rsub',\n",
       " 'rtruediv',\n",
       " 'sample',\n",
       " 'select_dtypes',\n",
       " 'sem',\n",
       " 'set_axis',\n",
       " 'set_flags',\n",
       " 'set_index',\n",
       " 'shape',\n",
       " 'shift',\n",
       " 'size',\n",
       " 'skew',\n",
       " 'sort_index',\n",
       " 'sort_values',\n",
       " 'squeeze',\n",
       " 'stack',\n",
       " 'std',\n",
       " 'style',\n",
       " 'sub',\n",
       " 'subtract',\n",
       " 'sum',\n",
       " 'swapaxes',\n",
       " 'swaplevel',\n",
       " 'tail',\n",
       " 'take',\n",
       " 'to_clipboard',\n",
       " 'to_csv',\n",
       " 'to_dict',\n",
       " 'to_excel',\n",
       " 'to_feather',\n",
       " 'to_gbq',\n",
       " 'to_hdf',\n",
       " 'to_html',\n",
       " 'to_json',\n",
       " 'to_latex',\n",
       " 'to_markdown',\n",
       " 'to_numpy',\n",
       " 'to_orc',\n",
       " 'to_parquet',\n",
       " 'to_period',\n",
       " 'to_pickle',\n",
       " 'to_records',\n",
       " 'to_sql',\n",
       " 'to_stata',\n",
       " 'to_string',\n",
       " 'to_timestamp',\n",
       " 'to_xarray',\n",
       " 'to_xml',\n",
       " 'transform',\n",
       " 'transpose',\n",
       " 'truediv',\n",
       " 'truncate',\n",
       " 'tz_convert',\n",
       " 'tz_localize',\n",
       " 'unstack',\n",
       " 'update',\n",
       " 'value_counts',\n",
       " 'values',\n",
       " 'var',\n",
       " 'weight',\n",
       " 'where',\n",
       " 'xs']"
      ]
     },
     "metadata": {},
     "output_type": "display_data"
    }
   ],
   "source": [
    "display(df.info())\n",
    "#object 타입은 문자열\n",
    "#int64는 정수형, float64는 실수형\n",
    "#df의 type은 pandas.core.frame.DataFrame으로 하나의 객체로 정의됨\n",
    "#객체는 여러 속성과 메서드를 가짐, 어떤 메서드를 사용할 수 있는지 확인하려면 dir(df)를 사용하면 됨\n",
    "display(dir(df))"
   ]
  },
  {
   "cell_type": "code",
   "execution_count": 38,
   "id": "8683cf55",
   "metadata": {},
   "outputs": [
    {
     "data": {
      "text/plain": [
       "weight    73.50\n",
       "height   173.50\n",
       "dtype: float64"
      ]
     },
     "execution_count": 38,
     "metadata": {},
     "output_type": "execute_result"
    }
   ],
   "source": [
    "df[['weight', 'height']].median()  #여러 열을 선택 가능 "
   ]
  },
  {
   "cell_type": "markdown",
   "id": "e0383e6d",
   "metadata": {},
   "source": [
    "기술 통계량 계산\n",
    "- Numpy에서는 ddof=0 디폴트였지만 Pandas에서는 ddof=1(자유도)가 디폴트임\n",
    "- 모표준편차를 구할 때 ddof=0 지정해줘야 함 "
   ]
  },
  {
   "cell_type": "code",
   "execution_count": 40,
   "id": "6f9534b6",
   "metadata": {},
   "outputs": [
    {
     "name": "stdout",
     "output_type": "stream",
     "text": [
      "height   7.50\n",
      "weight   7.50\n",
      "dtype: float64\n",
      "height   7.11\n",
      "weight   7.11\n",
      "dtype: float64\n"
     ]
    }
   ],
   "source": [
    "print(df.std(numeric_only=True))  #표준편차 계산\n",
    "print(df.std(numeric_only=True, ddof=0))  #모집단 표준편차 계산, ddof=0은 모집단 표준편차를 의미함\n",
    "#결과값은 표본표준편차가 n-1로 계산하기 때문에 모표준편차보다 약간 크게 나옴 "
   ]
  },
  {
   "cell_type": "markdown",
   "id": "7a19f8c7",
   "metadata": {},
   "source": [
    "pandas에서 상관계수와 공분산도 계산해줌\n",
    "- df.corr(): 피어슨상관계수\n",
    "- df.cov() : 공분산(상관계수를 0과 1 사이의 값으로 표준화한 것)"
   ]
  },
  {
   "cell_type": "markdown",
   "id": "e2bcb653",
   "metadata": {},
   "source": [
    "데이터프레임의 요약 기술통계량 계산\n",
    "- df.describe(): 데이터프레임의 요약 통계량 계산 "
   ]
  },
  {
   "cell_type": "code",
   "execution_count": null,
   "id": "2b8b3c99",
   "metadata": {},
   "outputs": [
    {
     "data": {
      "text/html": [
       "<div>\n",
       "<style scoped>\n",
       "    .dataframe tbody tr th:only-of-type {\n",
       "        vertical-align: middle;\n",
       "    }\n",
       "\n",
       "    .dataframe tbody tr th {\n",
       "        vertical-align: top;\n",
       "    }\n",
       "\n",
       "    .dataframe thead th {\n",
       "        text-align: right;\n",
       "    }\n",
       "</style>\n",
       "<table border=\"1\" class=\"dataframe\">\n",
       "  <thead>\n",
       "    <tr style=\"text-align: right;\">\n",
       "      <th></th>\n",
       "      <th>height</th>\n",
       "      <th>weight</th>\n",
       "    </tr>\n",
       "  </thead>\n",
       "  <tbody>\n",
       "    <tr>\n",
       "      <th>count</th>\n",
       "      <td>10.00</td>\n",
       "      <td>10.00</td>\n",
       "    </tr>\n",
       "    <tr>\n",
       "      <th>mean</th>\n",
       "      <td>173.00</td>\n",
       "      <td>73.00</td>\n",
       "    </tr>\n",
       "    <tr>\n",
       "      <th>std</th>\n",
       "      <td>7.50</td>\n",
       "      <td>7.50</td>\n",
       "    </tr>\n",
       "    <tr>\n",
       "      <th>min</th>\n",
       "      <td>160.00</td>\n",
       "      <td>60.00</td>\n",
       "    </tr>\n",
       "    <tr>\n",
       "      <th>25%</th>\n",
       "      <td>168.50</td>\n",
       "      <td>68.50</td>\n",
       "    </tr>\n",
       "    <tr>\n",
       "      <th>50%</th>\n",
       "      <td>173.50</td>\n",
       "      <td>73.50</td>\n",
       "    </tr>\n",
       "    <tr>\n",
       "      <th>75%</th>\n",
       "      <td>177.75</td>\n",
       "      <td>77.75</td>\n",
       "    </tr>\n",
       "    <tr>\n",
       "      <th>max</th>\n",
       "      <td>185.00</td>\n",
       "      <td>85.00</td>\n",
       "    </tr>\n",
       "  </tbody>\n",
       "</table>\n",
       "</div>"
      ],
      "text/plain": [
       "       height  weight\n",
       "count   10.00   10.00\n",
       "mean   173.00   73.00\n",
       "std      7.50    7.50\n",
       "min    160.00   60.00\n",
       "25%    168.50   68.50\n",
       "50%    173.50   73.50\n",
       "75%    177.75   77.75\n",
       "max    185.00   85.00"
      ]
     },
     "execution_count": 41,
     "metadata": {},
     "output_type": "execute_result"
    }
   ],
   "source": [
    "df.describe() #기본 통계량을 계산해줌\n",
    "#describe() 메서드는 기본적으로 숫자형 데이터에 대해서만 계산함"
   ]
  },
  {
   "cell_type": "markdown",
   "id": "3d0f3b5f",
   "metadata": {},
   "source": [
    "### Seaborn 라이브러리\n",
    "matplotlib기반의 python 데이터 시각화 라이브러리    \n",
    "seaborn 사이트의 gallery에 들어가면 그릴 수 있는 그래프들이 나옴"
   ]
  },
  {
   "cell_type": "code",
   "execution_count": 42,
   "id": "aeeea529",
   "metadata": {},
   "outputs": [],
   "source": [
    "import seaborn as sns"
   ]
  }
 ],
 "metadata": {
  "kernelspec": {
   "display_name": "stat",
   "language": "python",
   "name": "python3"
  },
  "language_info": {
   "codemirror_mode": {
    "name": "ipython",
    "version": 3
   },
   "file_extension": ".py",
   "mimetype": "text/x-python",
   "name": "python",
   "nbconvert_exporter": "python",
   "pygments_lexer": "ipython3",
   "version": "3.10.18"
  }
 },
 "nbformat": 4,
 "nbformat_minor": 5
}
