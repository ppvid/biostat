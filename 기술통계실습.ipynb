{
 "cells": [
  {
   "cell_type": "markdown",
   "id": "adbb7f10",
   "metadata": {},
   "source": [
    "C221011 김수민"
   ]
  },
  {
   "cell_type": "markdown",
   "id": "c002d025",
   "metadata": {},
   "source": [
    "# **공복혈당 기술통계량 분석**\n",
    "공복혈당(Fasting Blood Glucose, FBG)\n",
    "- 정상: 100mg/dL 미만\n",
    "- 당뇨병 전단계: 100mg/dL 이상 125mg/dL 미만\n",
    "- 당뇨병: 126mg/dL 이상 \n",
    "\n",
    "해결 목표\n",
    "1. 공복 혈당 수치를 난수를 이용하여 생성\n",
    "2. 공복 혈당 수치에 따른 당뇨병 분류\n",
    "3. 공복 혈당 수치의 기술통계량 계산\n"
   ]
  },
  {
   "cell_type": "markdown",
   "id": "e74be822",
   "metadata": {},
   "source": [
    "## 1. 데이터 준비"
   ]
  },
  {
   "cell_type": "code",
   "execution_count": 343,
   "id": "1a97afb2",
   "metadata": {},
   "outputs": [],
   "source": [
    "import pandas as pd\n",
    "import numpy as np\n",
    "import matplotlib.pyplot as plt\n",
    "import seaborn as sns\n",
    "import koreanize_matplotlib \n",
    "\n",
    "#데이터 값 표시 옵션 설정\n",
    "pd.options.display.float_format = '{:.2f}'.format\n",
    "#그래프 크기 설정 [width, height](inch 단위), 기본값: [6.4, 4.8]\n",
    "#해상도를 높히고 자세한 그래프를 그리기 위해 크기를 조정 \n",
    "plt.rcParams['figure.figsize']=[8,5]"
   ]
  },
  {
   "cell_type": "code",
   "execution_count": 344,
   "id": "c6c06198",
   "metadata": {},
   "outputs": [
    {
     "name": "stdout",
     "output_type": "stream",
     "text": [
      "<class 'pandas.core.frame.DataFrame'>\n",
      "RangeIndex: 100 entries, 0 to 99\n",
      "Data columns (total 3 columns):\n",
      " #   Column  Non-Null Count  Dtype  \n",
      "---  ------  --------------  -----  \n",
      " 0   FBG     100 non-null    float64\n",
      " 1   age     100 non-null    int32  \n",
      " 2   gender  100 non-null    object \n",
      "dtypes: float64(1), int32(1), object(1)\n",
      "memory usage: 2.1+ KB\n"
     ]
    }
   ],
   "source": [
    "#랜덤 시드 고정\n",
    "np.random.seed(42)\n",
    "\n",
    "#샘플 데이터 생성\n",
    "data={\n",
    "    #normal은 정규분포를 따르는 난수 생성\n",
    "    'FBG': np.random.normal(100,20,100), #공복혈당, 평균100, 표준편차20, 100개 샘플 \n",
    "    #randint는 균등분포를 따르는 난수 생성\n",
    "    'age' : np.random.randint(18,80,100), #18세에서 80세 사이의 정수형 데이터 100개 \n",
    "    #choice는 주어진 리스트에서 랜덤하게 선택\n",
    "    'gender': np.random.choice(['Male','Female'],100) \n",
    "}\n",
    "df= pd.DataFrame(data)\n",
    "df.info()"
   ]
  },
  {
   "cell_type": "markdown",
   "id": "32874437",
   "metadata": {},
   "source": [
    "100행으로 구성된 데이터프레임   \n",
    "colume은 딕셔너리의 키 값 3개로 되어있고 FBG는 정규분포에서 생성했기 때문에 실수(float64), age는 정수(int32)로 생성, gender는 문자열(object)로 생성됨"
   ]
  },
  {
   "cell_type": "code",
   "execution_count": 345,
   "id": "f40203ab",
   "metadata": {},
   "outputs": [
    {
     "data": {
      "text/html": [
       "<div>\n",
       "<style scoped>\n",
       "    .dataframe tbody tr th:only-of-type {\n",
       "        vertical-align: middle;\n",
       "    }\n",
       "\n",
       "    .dataframe tbody tr th {\n",
       "        vertical-align: top;\n",
       "    }\n",
       "\n",
       "    .dataframe thead th {\n",
       "        text-align: right;\n",
       "    }\n",
       "</style>\n",
       "<table border=\"1\" class=\"dataframe\">\n",
       "  <thead>\n",
       "    <tr style=\"text-align: right;\">\n",
       "      <th></th>\n",
       "      <th>FBG</th>\n",
       "      <th>age</th>\n",
       "      <th>gender</th>\n",
       "    </tr>\n",
       "  </thead>\n",
       "  <tbody>\n",
       "    <tr>\n",
       "      <th>0</th>\n",
       "      <td>109.93</td>\n",
       "      <td>26</td>\n",
       "      <td>Male</td>\n",
       "    </tr>\n",
       "    <tr>\n",
       "      <th>1</th>\n",
       "      <td>97.23</td>\n",
       "      <td>79</td>\n",
       "      <td>Male</td>\n",
       "    </tr>\n",
       "    <tr>\n",
       "      <th>2</th>\n",
       "      <td>112.95</td>\n",
       "      <td>54</td>\n",
       "      <td>Female</td>\n",
       "    </tr>\n",
       "    <tr>\n",
       "      <th>3</th>\n",
       "      <td>130.46</td>\n",
       "      <td>50</td>\n",
       "      <td>Female</td>\n",
       "    </tr>\n",
       "    <tr>\n",
       "      <th>4</th>\n",
       "      <td>95.32</td>\n",
       "      <td>68</td>\n",
       "      <td>Male</td>\n",
       "    </tr>\n",
       "  </tbody>\n",
       "</table>\n",
       "</div>"
      ],
      "text/plain": [
       "     FBG  age  gender\n",
       "0 109.93   26    Male\n",
       "1  97.23   79    Male\n",
       "2 112.95   54  Female\n",
       "3 130.46   50  Female\n",
       "4  95.32   68    Male"
      ]
     },
     "execution_count": 345,
     "metadata": {},
     "output_type": "execute_result"
    }
   ],
   "source": [
    "df.head()"
   ]
  },
  {
   "cell_type": "markdown",
   "id": "a3630fe4",
   "metadata": {},
   "source": [
    "## 2. FBG에 따라 당뇨병 분류"
   ]
  },
  {
   "cell_type": "markdown",
   "id": "dec604e1",
   "metadata": {},
   "source": [
    "당뇨병 분류 함수 생성"
   ]
  },
  {
   "cell_type": "code",
   "execution_count": 346,
   "id": "2363c34a",
   "metadata": {},
   "outputs": [],
   "source": [
    "def classifyDiabetes(fbg):\n",
    "    if fbg < 100:\n",
    "        return '정상'\n",
    "    elif 100 <= fbg < 126:\n",
    "        return '당뇨 전단계'\n",
    "    else:\n",
    "        return '당뇨병'"
   ]
  },
  {
   "cell_type": "markdown",
   "id": "4d852ca8",
   "metadata": {},
   "source": [
    "FBG열의 데이터를 이용해 당뇨병 여부를 분류하고 새로운 컬럼(당뇨병)에 추가함"
   ]
  },
  {
   "cell_type": "code",
   "execution_count": 347,
   "id": "0a360ff9",
   "metadata": {},
   "outputs": [
    {
     "data": {
      "text/html": [
       "<div>\n",
       "<style scoped>\n",
       "    .dataframe tbody tr th:only-of-type {\n",
       "        vertical-align: middle;\n",
       "    }\n",
       "\n",
       "    .dataframe tbody tr th {\n",
       "        vertical-align: top;\n",
       "    }\n",
       "\n",
       "    .dataframe thead th {\n",
       "        text-align: right;\n",
       "    }\n",
       "</style>\n",
       "<table border=\"1\" class=\"dataframe\">\n",
       "  <thead>\n",
       "    <tr style=\"text-align: right;\">\n",
       "      <th></th>\n",
       "      <th>FBG</th>\n",
       "      <th>age</th>\n",
       "      <th>gender</th>\n",
       "      <th>당뇨병</th>\n",
       "    </tr>\n",
       "  </thead>\n",
       "  <tbody>\n",
       "    <tr>\n",
       "      <th>0</th>\n",
       "      <td>109.93</td>\n",
       "      <td>26</td>\n",
       "      <td>Male</td>\n",
       "      <td>당뇨 전단계</td>\n",
       "    </tr>\n",
       "    <tr>\n",
       "      <th>1</th>\n",
       "      <td>97.23</td>\n",
       "      <td>79</td>\n",
       "      <td>Male</td>\n",
       "      <td>정상</td>\n",
       "    </tr>\n",
       "    <tr>\n",
       "      <th>2</th>\n",
       "      <td>112.95</td>\n",
       "      <td>54</td>\n",
       "      <td>Female</td>\n",
       "      <td>당뇨 전단계</td>\n",
       "    </tr>\n",
       "    <tr>\n",
       "      <th>3</th>\n",
       "      <td>130.46</td>\n",
       "      <td>50</td>\n",
       "      <td>Female</td>\n",
       "      <td>당뇨병</td>\n",
       "    </tr>\n",
       "    <tr>\n",
       "      <th>4</th>\n",
       "      <td>95.32</td>\n",
       "      <td>68</td>\n",
       "      <td>Male</td>\n",
       "      <td>정상</td>\n",
       "    </tr>\n",
       "  </tbody>\n",
       "</table>\n",
       "</div>"
      ],
      "text/plain": [
       "     FBG  age  gender     당뇨병\n",
       "0 109.93   26    Male  당뇨 전단계\n",
       "1  97.23   79    Male      정상\n",
       "2 112.95   54  Female  당뇨 전단계\n",
       "3 130.46   50  Female     당뇨병\n",
       "4  95.32   68    Male      정상"
      ]
     },
     "execution_count": 347,
     "metadata": {},
     "output_type": "execute_result"
    }
   ],
   "source": [
    "#당뇨병 컬럼을 df에 추가\n",
    "#apply 함수는 데이터 프레임 각 행에 대해 함수를 적용함\n",
    "#lambda 함수는 익명 함수로, classifyDiabetes 함수를 각 행의 FBG 값에 적용하여 당뇨병 상태를 분류함\n",
    "df['당뇨병']=df['FBG'].apply(lambda x: classifyDiabetes(x))\n",
    "df.head()"
   ]
  },
  {
   "cell_type": "markdown",
   "id": "739625b0",
   "metadata": {},
   "source": [
    "## 3. 기술통계량 계산"
   ]
  },
  {
   "cell_type": "code",
   "execution_count": 348,
   "id": "7e35ba2f",
   "metadata": {},
   "outputs": [
    {
     "data": {
      "text/plain": [
       "FBG   97.92\n",
       "age   49.67\n",
       "dtype: float64"
      ]
     },
     "execution_count": 348,
     "metadata": {},
     "output_type": "execute_result"
    }
   ],
   "source": [
    "df.mean(numeric_only=True) #수치형 데이터의 평균값 계산"
   ]
  },
  {
   "cell_type": "code",
   "execution_count": 349,
   "id": "848e9042",
   "metadata": {},
   "outputs": [
    {
     "data": {
      "text/plain": [
       "FBG   97.46\n",
       "age   50.00\n",
       "dtype: float64"
      ]
     },
     "execution_count": 349,
     "metadata": {},
     "output_type": "execute_result"
    }
   ],
   "source": [
    "df.median(numeric_only=True) #수치형 데이터의 중앙값 계산"
   ]
  },
  {
   "cell_type": "markdown",
   "id": "c2795676",
   "metadata": {},
   "source": [
    "현재 평균값과 중앙값의 데이터가 같게 나온다. 정규분포임을 예상할 수 있다.   \n",
    "- FBG 데이터 생성 시 정규 분포(normal)를 따르는 데이터를 생성했기 때문에 이런 결과값이 나온다.\n",
    "- age를 생성할 때는 균등 분포(uniform distribution)을 따르도록 데이터를 생성했기 때문에 좌우 대칭 형태이므로 평균과 중앙값이 대략 일치한다."
   ]
  },
  {
   "cell_type": "code",
   "execution_count": 350,
   "id": "3e30bb78",
   "metadata": {},
   "outputs": [
    {
     "data": {
      "text/html": [
       "<div>\n",
       "<style scoped>\n",
       "    .dataframe tbody tr th:only-of-type {\n",
       "        vertical-align: middle;\n",
       "    }\n",
       "\n",
       "    .dataframe tbody tr th {\n",
       "        vertical-align: top;\n",
       "    }\n",
       "\n",
       "    .dataframe thead th {\n",
       "        text-align: right;\n",
       "    }\n",
       "</style>\n",
       "<table border=\"1\" class=\"dataframe\">\n",
       "  <thead>\n",
       "    <tr style=\"text-align: right;\">\n",
       "      <th></th>\n",
       "      <th>FBG</th>\n",
       "      <th>age</th>\n",
       "      <th>gender</th>\n",
       "      <th>당뇨병</th>\n",
       "    </tr>\n",
       "  </thead>\n",
       "  <tbody>\n",
       "    <tr>\n",
       "      <th>0</th>\n",
       "      <td>47.61</td>\n",
       "      <td>49.00</td>\n",
       "      <td>Female</td>\n",
       "      <td>정상</td>\n",
       "    </tr>\n",
       "    <tr>\n",
       "      <th>1</th>\n",
       "      <td>60.25</td>\n",
       "      <td>NaN</td>\n",
       "      <td>NaN</td>\n",
       "      <td>NaN</td>\n",
       "    </tr>\n",
       "    <tr>\n",
       "      <th>2</th>\n",
       "      <td>60.81</td>\n",
       "      <td>NaN</td>\n",
       "      <td>NaN</td>\n",
       "      <td>NaN</td>\n",
       "    </tr>\n",
       "  </tbody>\n",
       "</table>\n",
       "</div>"
      ],
      "text/plain": [
       "    FBG   age  gender  당뇨병\n",
       "0 47.61 49.00  Female   정상\n",
       "1 60.25   NaN     NaN  NaN\n",
       "2 60.81   NaN     NaN  NaN"
      ]
     },
     "execution_count": 350,
     "metadata": {},
     "output_type": "execute_result"
    }
   ],
   "source": [
    "df.mode().head(3) #데이터 프레임의 열별 최빈값 계산하여 상위 3개 출력"
   ]
  },
  {
   "cell_type": "code",
   "execution_count": 351,
   "id": "7db73239",
   "metadata": {},
   "outputs": [
    {
     "data": {
      "text/html": [
       "<div>\n",
       "<style scoped>\n",
       "    .dataframe tbody tr th:only-of-type {\n",
       "        vertical-align: middle;\n",
       "    }\n",
       "\n",
       "    .dataframe tbody tr th {\n",
       "        vertical-align: top;\n",
       "    }\n",
       "\n",
       "    .dataframe thead th {\n",
       "        text-align: right;\n",
       "    }\n",
       "</style>\n",
       "<table border=\"1\" class=\"dataframe\">\n",
       "  <thead>\n",
       "    <tr style=\"text-align: right;\">\n",
       "      <th></th>\n",
       "      <th>age</th>\n",
       "      <th>gender</th>\n",
       "      <th>당뇨병</th>\n",
       "    </tr>\n",
       "  </thead>\n",
       "  <tbody>\n",
       "    <tr>\n",
       "      <th>0</th>\n",
       "      <td>49</td>\n",
       "      <td>Female</td>\n",
       "      <td>정상</td>\n",
       "    </tr>\n",
       "  </tbody>\n",
       "</table>\n",
       "</div>"
      ],
      "text/plain": [
       "   age  gender 당뇨병\n",
       "0   49  Female  정상"
      ]
     },
     "execution_count": 351,
     "metadata": {},
     "output_type": "execute_result"
    }
   ],
   "source": [
    "df[['age','gender','당뇨병']].mode() #수치형 데이터 FBG의 최빈값은 의미 없으므로 범주형 데이터 추려냄"
   ]
  },
  {
   "cell_type": "markdown",
   "id": "bf40a521",
   "metadata": {},
   "source": [
    "pandas라이브러리 활용해 표본표준편차와 모표준편차 계산"
   ]
  },
  {
   "cell_type": "code",
   "execution_count": 352,
   "id": "ff2d96d8",
   "metadata": {},
   "outputs": [
    {
     "data": {
      "text/plain": [
       "FBG   18.16\n",
       "age   19.16\n",
       "dtype: float64"
      ]
     },
     "execution_count": 352,
     "metadata": {},
     "output_type": "execute_result"
    }
   ],
   "source": [
    "df.std(numeric_only=True) #수치형 데이터의 표본표준편차 계산"
   ]
  },
  {
   "cell_type": "code",
   "execution_count": 353,
   "id": "d4300698",
   "metadata": {},
   "outputs": [
    {
     "data": {
      "text/plain": [
       "FBG   18.07\n",
       "age   19.07\n",
       "dtype: float64"
      ]
     },
     "execution_count": 353,
     "metadata": {},
     "output_type": "execute_result"
    }
   ],
   "source": [
    "df.std(numeric_only=True,ddof=0) #수치형 데이터의 모표준편차 계산, pandas에서는 ddof=0으로 설정하면 모표준편차를 계산함"
   ]
  },
  {
   "cell_type": "markdown",
   "id": "843a550c",
   "metadata": {},
   "source": [
    "pandas라이브러리 활용해 표본분산과 모분산 계산"
   ]
  },
  {
   "cell_type": "code",
   "execution_count": 354,
   "id": "dd74a3f6",
   "metadata": {},
   "outputs": [
    {
     "data": {
      "text/plain": [
       "FBG   329.91\n",
       "age   367.21\n",
       "dtype: float64"
      ]
     },
     "execution_count": 354,
     "metadata": {},
     "output_type": "execute_result"
    }
   ],
   "source": [
    "df.var(numeric_only=True) #수치형 데이터의 표본분산 계산"
   ]
  },
  {
   "cell_type": "code",
   "execution_count": 355,
   "id": "39b05c3c",
   "metadata": {},
   "outputs": [
    {
     "data": {
      "text/plain": [
       "FBG   326.61\n",
       "age   363.54\n",
       "dtype: float64"
      ]
     },
     "execution_count": 355,
     "metadata": {},
     "output_type": "execute_result"
    }
   ],
   "source": [
    "df.var(numeric_only=True,ddof=0) #수치형 데이터의 모분산 계산"
   ]
  },
  {
   "cell_type": "markdown",
   "id": "d2ee6471",
   "metadata": {},
   "source": [
    "데이터 프레임의 열별 IQR 계산   \n",
    "boxplot에 표시되는 항목이다 "
   ]
  },
  {
   "cell_type": "code",
   "execution_count": 356,
   "id": "5a7b3cea",
   "metadata": {},
   "outputs": [
    {
     "name": "stdout",
     "output_type": "stream",
     "text": [
      "사분위수:\n"
     ]
    },
    {
     "data": {
      "text/html": [
       "<div>\n",
       "<style scoped>\n",
       "    .dataframe tbody tr th:only-of-type {\n",
       "        vertical-align: middle;\n",
       "    }\n",
       "\n",
       "    .dataframe tbody tr th {\n",
       "        vertical-align: top;\n",
       "    }\n",
       "\n",
       "    .dataframe thead th {\n",
       "        text-align: right;\n",
       "    }\n",
       "</style>\n",
       "<table border=\"1\" class=\"dataframe\">\n",
       "  <thead>\n",
       "    <tr style=\"text-align: right;\">\n",
       "      <th></th>\n",
       "      <th>FBG</th>\n",
       "      <th>age</th>\n",
       "    </tr>\n",
       "  </thead>\n",
       "  <tbody>\n",
       "    <tr>\n",
       "      <th>0.00</th>\n",
       "      <td>47.61</td>\n",
       "      <td>18.00</td>\n",
       "    </tr>\n",
       "    <tr>\n",
       "      <th>0.25</th>\n",
       "      <td>87.98</td>\n",
       "      <td>34.00</td>\n",
       "    </tr>\n",
       "    <tr>\n",
       "      <th>0.75</th>\n",
       "      <td>108.12</td>\n",
       "      <td>67.25</td>\n",
       "    </tr>\n",
       "    <tr>\n",
       "      <th>1.00</th>\n",
       "      <td>137.05</td>\n",
       "      <td>79.00</td>\n",
       "    </tr>\n",
       "  </tbody>\n",
       "</table>\n",
       "</div>"
      ],
      "text/plain": [
       "        FBG   age\n",
       "0.00  47.61 18.00\n",
       "0.25  87.98 34.00\n",
       "0.75 108.12 67.25\n",
       "1.00 137.05 79.00"
      ]
     },
     "metadata": {},
     "output_type": "display_data"
    }
   ],
   "source": [
    "#사분위수 계산 \n",
    "quantile= df.quantile([0,0.25, 0.75,1], numeric_only=True)\n",
    "print('사분위수:',)\n",
    "display(quantile)"
   ]
  },
  {
   "cell_type": "code",
   "execution_count": 357,
   "id": "c9572909",
   "metadata": {},
   "outputs": [
    {
     "name": "stdout",
     "output_type": "stream",
     "text": [
      "IQR:\n",
      " FBG   20.14\n",
      "age   33.25\n",
      "dtype: float64\n"
     ]
    }
   ],
   "source": [
    "#IQR 계산\n",
    "#.loc는 행 이름으로 데이터 프레임의 행을 선택하는 방법\n",
    "IQR=quantile.loc[0.75] - quantile.loc[0.25]\n",
    "print('IQR:\\n', IQR)"
   ]
  },
  {
   "cell_type": "markdown",
   "id": "0cd326f1",
   "metadata": {},
   "source": [
    "데이터프레임의 열별 왜도 계산(수치형 데이터만)"
   ]
  },
  {
   "cell_type": "code",
   "execution_count": 358,
   "id": "46e18af7",
   "metadata": {},
   "outputs": [
    {
     "data": {
      "text/plain": [
       "FBG   -0.18\n",
       "age   -0.11\n",
       "dtype: float64"
      ]
     },
     "execution_count": 358,
     "metadata": {},
     "output_type": "execute_result"
    }
   ],
   "source": [
    "df.skew(numeric_only=True) #데이터프레임의 열별 왜도 계산(수치형 데이터만)"
   ]
  },
  {
   "cell_type": "markdown",
   "id": "6873c9ae",
   "metadata": {},
   "source": [
    "0에 가까우므로 거의 대칭적인 분포임을 뜻함(정규분포에 가까움)   \n",
    "왼쪽으로 꼬리가 길면 음수 값을 가지고   \n",
    "오른쪽으로 꼬리가 길면 양수값을 가짐   "
   ]
  },
  {
   "cell_type": "markdown",
   "id": "2c54a01b",
   "metadata": {},
   "source": [
    "데이터프레임의 열별 첨도 계산(수치형 데이터만)"
   ]
  },
  {
   "cell_type": "code",
   "execution_count": 359,
   "id": "9d34c604",
   "metadata": {},
   "outputs": [
    {
     "data": {
      "text/plain": [
       "FBG   -0.10\n",
       "age   -1.24\n",
       "dtype: float64"
      ]
     },
     "execution_count": 359,
     "metadata": {},
     "output_type": "execute_result"
    }
   ],
   "source": [
    "df.kurt(numeric_only=True) #데이터프레임의 열별 첨도 계산(수치형 데이터만)"
   ]
  },
  {
   "cell_type": "markdown",
   "id": "6d130fb0",
   "metadata": {},
   "source": [
    "Fisher 정의 기준에서 0에 가까우면 정규분포와 유사하고   \n",
    "양수 값을 가지면 뾰족한 분포로 극단값이 많다는 의미 \n",
    "음수 값을 가지면 평평한 분포로 극단값이 적다는 의미   \n",
    "\n",
    "FBG는 0에 가까우므로 정규분포와 거의 유사하고   \n",
    "age는 음수값을 가지므로 평평한 분포를 가진다는 의미이다(균등 분포로 데이터를 생성하였기 때문에 이런 값이 나온다)"
   ]
  },
  {
   "cell_type": "markdown",
   "id": "add1906d",
   "metadata": {},
   "source": [
    "기술 통계량 요약 출력"
   ]
  },
  {
   "cell_type": "code",
   "execution_count": 360,
   "id": "ef55c00d",
   "metadata": {},
   "outputs": [
    {
     "name": "stdout",
     "output_type": "stream",
     "text": [
      "기술 통계량 요약:\n",
      "          FBG    age\n",
      "count 100.00 100.00\n",
      "mean   97.92  49.67\n",
      "std    18.16  19.16\n",
      "min    47.61  18.00\n",
      "25%    87.98  34.00\n",
      "50%    97.46  50.00\n",
      "75%   108.12  67.25\n",
      "max   137.05  79.00\n"
     ]
    }
   ],
   "source": [
    "desc_stats=df.describe() #기술 통계량 요약 출력\n",
    "print('기술 통계량 요약:\\n', desc_stats)"
   ]
  },
  {
   "cell_type": "markdown",
   "id": "37c69547",
   "metadata": {},
   "source": [
    "## 4. 공복혈당(FBG) 분포 시각화\n",
    "seaborn, matplotlib 활용"
   ]
  },
  {
   "cell_type": "code",
   "execution_count": 361,
   "id": "5ed399d4",
   "metadata": {},
   "outputs": [
    {
     "data": {
      "image/png": "[encoded data removed]",
      "text/plain": [
       "<Figure size 800x500 with 1 Axes>"
      ]
     },
     "metadata": {},
     "output_type": "display_data"
    }
   ],
   "source": [
    "sns.histplot(\n",
    "    df['FBG'],\n",
    "    kde=True\n",
    "    ) \n",
    "plt.title('공복혈당(FBG) 분포')\n",
    "plt.xlabel('FBG (mg/dL)')\n",
    "plt.ylabel('빈도수')\n",
    "plt.show()"
   ]
  },
  {
   "cell_type": "markdown",
   "id": "00e26f86",
   "metadata": {},
   "source": [
    "# **체질량지수에 따른 비만도 분류**\n",
    "체질량 지수(BMI)\n",
    "$$ BMI=체중(kg)/키(m)^2 $$\n",
    "\n",
    "BMI 지수에 따른 비만도 분류 기준\n",
    "| BMI 지수 범위      | 비만도 분류   |\n",
    "|-------------------|---------------|\n",
    "| 18.5 미만         | 저체중        |\n",
    "| 18.5 이상 23 미만 | 정상          |\n",
    "| 23 이상 25 미만   | 과체중        |\n",
    "| 25 이상 30 미만   | 경도비만      |\n",
    "| 30 이상 35 미만   | 중등도비만    |\n",
    "| 35 이상           | 고도비만      |\n",
    "\n",
    "해결 목표\n",
    "1. 함수를 이용하여 체질량지수(BMI)를 계산\n",
    "2. BMI 지수에 따른 비만도 분류를 수행\n",
    "3. 기술 통계량 계산\n",
    "4. 시각화"
   ]
  },
  {
   "cell_type": "code",
   "execution_count": 362,
   "id": "47bff06e",
   "metadata": {},
   "outputs": [],
   "source": [
    "#필요 라이브러리 임포트 및 기본 설정\n",
    "import pandas as pd\n",
    "import numpy as np\n",
    "import matplotlib.pyplot as plt\n",
    "import seaborn as sns   \n",
    "import koreanize_matplotlib\n",
    "\n",
    "pd.options.display.float_format = '{:.2f}'.format\n",
    "plt.rcParams['figure.figsize']=[8,5]"
   ]
  },
  {
   "cell_type": "markdown",
   "id": "e3c9e58c",
   "metadata": {},
   "source": [
    "## 1. 데이터 준비"
   ]
  },
  {
   "cell_type": "code",
   "execution_count": 363,
   "id": "b6de98c8",
   "metadata": {},
   "outputs": [
    {
     "data": {
      "text/html": [
       "<div>\n",
       "<style scoped>\n",
       "    .dataframe tbody tr th:only-of-type {\n",
       "        vertical-align: middle;\n",
       "    }\n",
       "\n",
       "    .dataframe tbody tr th {\n",
       "        vertical-align: top;\n",
       "    }\n",
       "\n",
       "    .dataframe thead th {\n",
       "        text-align: right;\n",
       "    }\n",
       "</style>\n",
       "<table border=\"1\" class=\"dataframe\">\n",
       "  <thead>\n",
       "    <tr style=\"text-align: right;\">\n",
       "      <th></th>\n",
       "      <th>weight</th>\n",
       "      <th>height</th>\n",
       "      <th>gender</th>\n",
       "    </tr>\n",
       "  </thead>\n",
       "  <tbody>\n",
       "    <tr>\n",
       "      <th>0</th>\n",
       "      <td>77.48</td>\n",
       "      <td>173.24</td>\n",
       "      <td>남성</td>\n",
       "    </tr>\n",
       "    <tr>\n",
       "      <th>1</th>\n",
       "      <td>74.31</td>\n",
       "      <td>166.15</td>\n",
       "      <td>남성</td>\n",
       "    </tr>\n",
       "    <tr>\n",
       "      <th>2</th>\n",
       "      <td>78.24</td>\n",
       "      <td>163.23</td>\n",
       "      <td>남성</td>\n",
       "    </tr>\n",
       "    <tr>\n",
       "      <th>3</th>\n",
       "      <td>82.62</td>\n",
       "      <td>176.12</td>\n",
       "      <td>남성</td>\n",
       "    </tr>\n",
       "    <tr>\n",
       "      <th>4</th>\n",
       "      <td>73.83</td>\n",
       "      <td>180.31</td>\n",
       "      <td>남성</td>\n",
       "    </tr>\n",
       "    <tr>\n",
       "      <th>...</th>\n",
       "      <td>...</td>\n",
       "      <td>...</td>\n",
       "      <td>...</td>\n",
       "    </tr>\n",
       "    <tr>\n",
       "      <th>45</th>\n",
       "      <td>53.91</td>\n",
       "      <td>161.93</td>\n",
       "      <td>여성</td>\n",
       "    </tr>\n",
       "    <tr>\n",
       "      <th>46</th>\n",
       "      <td>43.82</td>\n",
       "      <td>155.58</td>\n",
       "      <td>여성</td>\n",
       "    </tr>\n",
       "    <tr>\n",
       "      <th>47</th>\n",
       "      <td>43.40</td>\n",
       "      <td>160.77</td>\n",
       "      <td>여성</td>\n",
       "    </tr>\n",
       "    <tr>\n",
       "      <th>48</th>\n",
       "      <td>52.61</td>\n",
       "      <td>160.29</td>\n",
       "      <td>여성</td>\n",
       "    </tr>\n",
       "    <tr>\n",
       "      <th>49</th>\n",
       "      <td>51.48</td>\n",
       "      <td>154.29</td>\n",
       "      <td>여성</td>\n",
       "    </tr>\n",
       "  </tbody>\n",
       "</table>\n",
       "<p>100 rows × 3 columns</p>\n",
       "</div>"
      ],
      "text/plain": [
       "    weight  height gender\n",
       "0    77.48  173.24     남성\n",
       "1    74.31  166.15     남성\n",
       "2    78.24  163.23     남성\n",
       "3    82.62  176.12     남성\n",
       "4    73.83  180.31     남성\n",
       "..     ...     ...    ...\n",
       "45   53.91  161.93     여성\n",
       "46   43.82  155.58     여성\n",
       "47   43.40  160.77     여성\n",
       "48   52.61  160.29     여성\n",
       "49   51.48  154.29     여성\n",
       "\n",
       "[100 rows x 3 columns]"
      ]
     },
     "execution_count": 363,
     "metadata": {},
     "output_type": "execute_result"
    }
   ],
   "source": [
    "np.random.seed(42)\n",
    "#남성 데이터 생성\n",
    "data_male={\n",
    "    'weight':np.random.normal(75,5,50),\n",
    "    'height':np.random.normal(170,10,50),\n",
    "    'gender':'남성'\n",
    "}\n",
    "df_male=pd.DataFrame(data_male)\n",
    "#여성데이터 생성\n",
    "data_female={\n",
    "    'weight':np.random.normal(50,5,50),\n",
    "    'height':np.random.normal(160,5,50),\n",
    "    'gender':'여성'\n",
    "}\n",
    "df_female=pd.DataFrame(data_female)\n",
    "\n",
    "#데이터 병합, axis=0이면 밑으로 두 데이터 합침, index는 정돈 안 된 상태로 출력됨\n",
    "df=pd.concat([df_male,df_female],axis=0)\n",
    "df"
   ]
  },
  {
   "cell_type": "markdown",
   "id": "e4eb0ddb",
   "metadata": {},
   "source": [
    "BMI 지수 계산"
   ]
  },
  {
   "cell_type": "code",
   "execution_count": 364,
   "id": "f5fe5433",
   "metadata": {},
   "outputs": [
    {
     "data": {
      "text/html": [
       "<div>\n",
       "<style scoped>\n",
       "    .dataframe tbody tr th:only-of-type {\n",
       "        vertical-align: middle;\n",
       "    }\n",
       "\n",
       "    .dataframe tbody tr th {\n",
       "        vertical-align: top;\n",
       "    }\n",
       "\n",
       "    .dataframe thead th {\n",
       "        text-align: right;\n",
       "    }\n",
       "</style>\n",
       "<table border=\"1\" class=\"dataframe\">\n",
       "  <thead>\n",
       "    <tr style=\"text-align: right;\">\n",
       "      <th></th>\n",
       "      <th>weight</th>\n",
       "      <th>height</th>\n",
       "      <th>gender</th>\n",
       "      <th>BMI</th>\n",
       "    </tr>\n",
       "  </thead>\n",
       "  <tbody>\n",
       "    <tr>\n",
       "      <th>0</th>\n",
       "      <td>77.48</td>\n",
       "      <td>173.24</td>\n",
       "      <td>남성</td>\n",
       "      <td>25.82</td>\n",
       "    </tr>\n",
       "    <tr>\n",
       "      <th>1</th>\n",
       "      <td>74.31</td>\n",
       "      <td>166.15</td>\n",
       "      <td>남성</td>\n",
       "      <td>26.92</td>\n",
       "    </tr>\n",
       "    <tr>\n",
       "      <th>2</th>\n",
       "      <td>78.24</td>\n",
       "      <td>163.23</td>\n",
       "      <td>남성</td>\n",
       "      <td>29.36</td>\n",
       "    </tr>\n",
       "    <tr>\n",
       "      <th>3</th>\n",
       "      <td>82.62</td>\n",
       "      <td>176.12</td>\n",
       "      <td>남성</td>\n",
       "      <td>26.64</td>\n",
       "    </tr>\n",
       "    <tr>\n",
       "      <th>4</th>\n",
       "      <td>73.83</td>\n",
       "      <td>180.31</td>\n",
       "      <td>남성</td>\n",
       "      <td>22.71</td>\n",
       "    </tr>\n",
       "  </tbody>\n",
       "</table>\n",
       "</div>"
      ],
      "text/plain": [
       "   weight  height gender   BMI\n",
       "0   77.48  173.24     남성 25.82\n",
       "1   74.31  166.15     남성 26.92\n",
       "2   78.24  163.23     남성 29.36\n",
       "3   82.62  176.12     남성 26.64\n",
       "4   73.83  180.31     남성 22.71"
      ]
     },
     "execution_count": 364,
     "metadata": {},
     "output_type": "execute_result"
    }
   ],
   "source": [
    "## BMI 지수 계산 함수 정의\n",
    "def calculateBMI(weight,height):\n",
    "    return weight/(height/100)**2\n",
    "\n",
    "#BMI 계산\n",
    "df['BMI']=calculateBMI(df['weight'],df['height'])\n",
    "df.head()"
   ]
  },
  {
   "cell_type": "markdown",
   "id": "f0f28fd0",
   "metadata": {},
   "source": [
    "## 2. BMI 지수에 따른 비만도 분류\n",
    "BMI 컬럼 데이터 값을 활용해 비만 여부 분류 후 새로운 컬럼(비만도)에 추가"
   ]
  },
  {
   "cell_type": "code",
   "execution_count": 365,
   "id": "d939993b",
   "metadata": {},
   "outputs": [
    {
     "data": {
      "text/html": [
       "<div>\n",
       "<style scoped>\n",
       "    .dataframe tbody tr th:only-of-type {\n",
       "        vertical-align: middle;\n",
       "    }\n",
       "\n",
       "    .dataframe tbody tr th {\n",
       "        vertical-align: top;\n",
       "    }\n",
       "\n",
       "    .dataframe thead th {\n",
       "        text-align: right;\n",
       "    }\n",
       "</style>\n",
       "<table border=\"1\" class=\"dataframe\">\n",
       "  <thead>\n",
       "    <tr style=\"text-align: right;\">\n",
       "      <th></th>\n",
       "      <th>weight</th>\n",
       "      <th>height</th>\n",
       "      <th>gender</th>\n",
       "      <th>BMI</th>\n",
       "      <th>비만도</th>\n",
       "    </tr>\n",
       "  </thead>\n",
       "  <tbody>\n",
       "    <tr>\n",
       "      <th>0</th>\n",
       "      <td>77.48</td>\n",
       "      <td>173.24</td>\n",
       "      <td>남성</td>\n",
       "      <td>25.82</td>\n",
       "      <td>경도비만</td>\n",
       "    </tr>\n",
       "    <tr>\n",
       "      <th>1</th>\n",
       "      <td>74.31</td>\n",
       "      <td>166.15</td>\n",
       "      <td>남성</td>\n",
       "      <td>26.92</td>\n",
       "      <td>경도비만</td>\n",
       "    </tr>\n",
       "    <tr>\n",
       "      <th>2</th>\n",
       "      <td>78.24</td>\n",
       "      <td>163.23</td>\n",
       "      <td>남성</td>\n",
       "      <td>29.36</td>\n",
       "      <td>경도비만</td>\n",
       "    </tr>\n",
       "    <tr>\n",
       "      <th>3</th>\n",
       "      <td>82.62</td>\n",
       "      <td>176.12</td>\n",
       "      <td>남성</td>\n",
       "      <td>26.64</td>\n",
       "      <td>경도비만</td>\n",
       "    </tr>\n",
       "    <tr>\n",
       "      <th>4</th>\n",
       "      <td>73.83</td>\n",
       "      <td>180.31</td>\n",
       "      <td>남성</td>\n",
       "      <td>22.71</td>\n",
       "      <td>정상</td>\n",
       "    </tr>\n",
       "  </tbody>\n",
       "</table>\n",
       "</div>"
      ],
      "text/plain": [
       "   weight  height gender   BMI   비만도\n",
       "0   77.48  173.24     남성 25.82  경도비만\n",
       "1   74.31  166.15     남성 26.92  경도비만\n",
       "2   78.24  163.23     남성 29.36  경도비만\n",
       "3   82.62  176.12     남성 26.64  경도비만\n",
       "4   73.83  180.31     남성 22.71    정상"
      ]
     },
     "execution_count": 365,
     "metadata": {},
     "output_type": "execute_result"
    }
   ],
   "source": [
    "def BMIToCategory(bmi):\n",
    "    if bmi < 18.5:\n",
    "        return '저체중'\n",
    "    elif 18.5 <= bmi < 23:\n",
    "        return '정상'\n",
    "    elif 23 <= bmi < 25:\n",
    "        return '과체중'\n",
    "    elif 25<= bmi < 30:\n",
    "        return '경도비만'\n",
    "    elif 30 <= bmi < 35:\n",
    "        return '중등도비만'\n",
    "    else:\n",
    "        return '고도비만'\n",
    "#비만도 컬럼을 df에 추가\n",
    "df['비만도']=df['BMI'].apply(lambda x: BMIToCategory(x))\n",
    "df.head()"
   ]
  },
  {
   "cell_type": "markdown",
   "id": "a0121cea",
   "metadata": {},
   "source": [
    "## 3. 기술통계량 계산"
   ]
  },
  {
   "cell_type": "code",
   "execution_count": 366,
   "id": "875b3a68",
   "metadata": {},
   "outputs": [
    {
     "name": "stdout",
     "output_type": "stream",
     "text": [
      "기술 통계량 요약:\n",
      "        weight  height    BMI\n",
      "count  100.00  100.00 100.00\n",
      "mean    61.84  165.30  22.54\n",
      "std     13.03    8.47   4.12\n",
      "min     40.41  143.80  15.37\n",
      "25%     50.19  159.63  19.22\n",
      "50%     63.76  163.75  22.06\n",
      "75%     73.83  170.88  25.59\n",
      "max     84.26  185.65  34.95\n"
     ]
    }
   ],
   "source": [
    "desc_stats=df.describe() #기술 통계량 요약 출력\n",
    "print('기술 통계량 요약:\\n', desc_stats)"
   ]
  },
  {
   "cell_type": "markdown",
   "id": "43e29258",
   "metadata": {},
   "source": [
    "요약을 보면 평균(mean)과 중앙값(50%)을 비교했을 때 약간씩 차이를 보이므로 정규분포인지 알 수 없다."
   ]
  },
  {
   "cell_type": "markdown",
   "id": "dfa94925",
   "metadata": {},
   "source": [
    "## 4. BMI 분포 시각화\n",
    "seaborn, matplotlib 활용"
   ]
  },
  {
   "cell_type": "code",
   "execution_count": 367,
   "id": "d1f174d2",
   "metadata": {},
   "outputs": [
    {
     "data": {
      "image/png": "[encoded data removed]",
      "text/plain": [
       "<Figure size 800x500 with 1 Axes>"
      ]
     },
     "metadata": {},
     "output_type": "display_data"
    }
   ],
   "source": [
    "sns.histplot(\n",
    "    df['BMI'],\n",
    "    kde=True\n",
    ")\n",
    "plt.title('BMI 분포')\n",
    "plt.xlabel('BMI')\n",
    "plt.ylabel('빈도수')\n",
    "plt.show()"
   ]
  },
  {
   "cell_type": "markdown",
   "id": "837b5a9e",
   "metadata": {},
   "source": [
    "왼쪽으로 쏠린 우변사행 형태를 가짐 "
   ]
  },
  {
   "cell_type": "markdown",
   "id": "22f508b7",
   "metadata": {},
   "source": [
    "성별에 따른 BMI 분포 시각화"
   ]
  },
  {
   "cell_type": "code",
   "execution_count": 368,
   "id": "07efb5c0",
   "metadata": {},
   "outputs": [
    {
     "data": {
      "image/png": "[encoded data removed]",
      "text/plain": [
       "<Figure size 800x500 with 1 Axes>"
      ]
     },
     "metadata": {},
     "output_type": "display_data"
    }
   ],
   "source": [
    "sns.histplot(\n",
    "    data=df,\n",
    "    x='BMI',\n",
    "    kde=True,\n",
    "    hue='gender'\n",
    ")\n",
    "plt.title('성별에 따른 BMI 분포')\n",
    "plt.xlabel('BMI')\n",
    "plt.ylabel('빈도수')\n",
    "plt.show()"
   ]
  },
  {
   "cell_type": "markdown",
   "id": "78184f33",
   "metadata": {},
   "source": [
    "남자와 여자를 각기 보면 정규분포의 형태를 가지게 된다.  \n",
    "전체적인 분포가 우변사행이라 하여서 정규분포를 따르지 않는다고 바로 판단하는 것이 아닌 데이터를 분류해가며 판단해봐야 함"
   ]
  },
  {
   "cell_type": "code",
   "execution_count": 369,
   "id": "2c18dcf5",
   "metadata": {},
   "outputs": [
    {
     "data": {
      "image/png": "[encoded data removed]",
      "text/plain": [
       "<Figure size 800x500 with 1 Axes>"
      ]
     },
     "metadata": {},
     "output_type": "display_data"
    }
   ],
   "source": [
    "#countplot은 범주형 데이터의 빈도수를 시각화하는데 유용\n",
    "#수치형 데이터의 경우에는 히스토그램을 사용\n",
    "sns.countplot(\n",
    "    data=df,\n",
    "    x='비만도',\n",
    "    order=['저체중','정상','과체중','경도비만','중등도비만','고도비만'],\n",
    "    hue='비만도',\n",
    "    palette='pastel'\n",
    ")\n",
    "plt.title('비만도에 따른 빈도수')\n",
    "plt.xlabel('비만도')\n",
    "plt.ylabel('빈도수')\n",
    "plt.show()"
   ]
  },
  {
   "cell_type": "code",
   "execution_count": 370,
   "id": "a92130af",
   "metadata": {},
   "outputs": [
    {
     "data": {
      "image/png": "[encoded data removed]",
      "text/plain": [
       "<Figure size 800x500 with 1 Axes>"
      ]
     },
     "metadata": {},
     "output_type": "display_data"
    }
   ],
   "source": [
    "#범주형 데이터도 히스토그램으로 시각화 가능\n",
    "sns.histplot(\n",
    "    data=df,\n",
    "    x='비만도',\n",
    "    hue='비만도',\n",
    ")\n",
    "plt.title('비만도에 따른 빈도수')\n",
    "plt.xlabel('비만도')\n",
    "plt.ylabel('빈도수')\n",
    "plt.show()"
   ]
  },
  {
   "cell_type": "markdown",
   "id": "0a949bde",
   "metadata": {},
   "source": [
    "비만도 분류에 따른 인원수 시각화(성별)"
   ]
  },
  {
   "cell_type": "code",
   "execution_count": 371,
   "id": "bc1bb1b7",
   "metadata": {},
   "outputs": [
    {
     "data": {
      "image/png": "[encoded data removed]",
      "text/plain": [
       "<Figure size 800x500 with 1 Axes>"
      ]
     },
     "metadata": {},
     "output_type": "display_data"
    }
   ],
   "source": [
    "sns.countplot(\n",
    "    data=df,\n",
    "    x='비만도',\n",
    "    order=['저체중','정상','과체중','경도비만','중등도비만','고도비만'],\n",
    "    hue='gender',\n",
    "    palette='pastel'\n",
    ")\n",
    "plt.title('비만도 분류에 따른 인원수')\n",
    "plt.xlabel('비만도')\n",
    "plt.ylabel('빈도수')\n",
    "plt.legend(loc='upper right', title='성별')\n",
    "plt.show()"
   ]
  },
  {
   "cell_type": "markdown",
   "id": "527ed975",
   "metadata": {},
   "source": [
    "성별 BMI 박스플롯 시각화"
   ]
  },
  {
   "cell_type": "code",
   "execution_count": 372,
   "id": "ad581e95",
   "metadata": {},
   "outputs": [
    {
     "data": {
      "image/png": "[encoded data removed]",
      "text/plain": [
       "<Figure size 800x500 with 1 Axes>"
      ]
     },
     "metadata": {},
     "output_type": "display_data"
    }
   ],
   "source": [
    "sns.boxplot(\n",
    "    data=df,\n",
    "    x='gender',\n",
    "    y='BMI',\n",
    "    hue='gender'\n",
    ")\n",
    "plt.title('성별 BMI 분포')\n",
    "plt.xlabel('성별')\n",
    "plt.ylabel('BMI')\n",
    "plt.show()"
   ]
  },
  {
   "cell_type": "markdown",
   "id": "f4c060d0",
   "metadata": {},
   "source": [
    "# **수축기 혈압과 이완기 혈압의 상관관계 분석**\n",
    "혈압(Blood Pressure)\n",
    "- 수축기 혈압(SBP,Systolic Blood Pressure)\n",
    "- 이완기 혈합(DBP,Diastolic Blood Pressure)\n",
    "\n",
    "해결목표\n",
    " 1. 수축기 혈압과 이완기 혈압을 난수를 이용하여 생성\n",
    " 2. 혈압의 기술통계량 계산\n",
    " 3. 수축기 혈압과 이완기 혈압의 분포 시각화\n",
    " 4. 수축기 혈압과 이완기 혈압의 상관관계 분석"
   ]
  },
  {
   "cell_type": "code",
   "execution_count": 373,
   "id": "f9d1019c",
   "metadata": {},
   "outputs": [],
   "source": [
    "#필요 라이브러리 임포트 및 기본 설정\n",
    "import pandas as pd\n",
    "import numpy as np\n",
    "import matplotlib.pyplot as plt\n",
    "import seaborn as sns   \n",
    "import koreanize_matplotlib\n",
    "\n",
    "pd.options.display.float_format = '{:.2f}'.format\n",
    "plt.rcParams['figure.figsize']=[8,5]"
   ]
  },
  {
   "cell_type": "markdown",
   "id": "f30e98ed",
   "metadata": {},
   "source": [
    "## 1. 데이터준비"
   ]
  },
  {
   "cell_type": "code",
   "execution_count": 374,
   "id": "2f4af8bb",
   "metadata": {},
   "outputs": [
    {
     "data": {
      "text/html": [
       "<div>\n",
       "<style scoped>\n",
       "    .dataframe tbody tr th:only-of-type {\n",
       "        vertical-align: middle;\n",
       "    }\n",
       "\n",
       "    .dataframe tbody tr th {\n",
       "        vertical-align: top;\n",
       "    }\n",
       "\n",
       "    .dataframe thead th {\n",
       "        text-align: right;\n",
       "    }\n",
       "</style>\n",
       "<table border=\"1\" class=\"dataframe\">\n",
       "  <thead>\n",
       "    <tr style=\"text-align: right;\">\n",
       "      <th></th>\n",
       "      <th>SBP</th>\n",
       "    </tr>\n",
       "  </thead>\n",
       "  <tbody>\n",
       "    <tr>\n",
       "      <th>0</th>\n",
       "      <td>127.45</td>\n",
       "    </tr>\n",
       "    <tr>\n",
       "      <th>1</th>\n",
       "      <td>117.93</td>\n",
       "    </tr>\n",
       "    <tr>\n",
       "      <th>2</th>\n",
       "      <td>129.72</td>\n",
       "    </tr>\n",
       "    <tr>\n",
       "      <th>3</th>\n",
       "      <td>142.85</td>\n",
       "    </tr>\n",
       "    <tr>\n",
       "      <th>4</th>\n",
       "      <td>116.49</td>\n",
       "    </tr>\n",
       "  </tbody>\n",
       "</table>\n",
       "</div>"
      ],
      "text/plain": [
       "     SBP\n",
       "0 127.45\n",
       "1 117.93\n",
       "2 129.72\n",
       "3 142.85\n",
       "4 116.49"
      ]
     },
     "execution_count": 374,
     "metadata": {},
     "output_type": "execute_result"
    }
   ],
   "source": [
    "np.random.seed(42)\n",
    "#100개의 수축기 혈압(SBP) 데이터 생성\n",
    "data={\n",
    "    'SBP': np.random.normal(120,15,100), #수축기 혈압, 평균120, 표준편차15, 100개 샘플 \n",
    "}\n",
    "df= pd.DataFrame(data)\n",
    "df.head()"
   ]
  },
  {
   "cell_type": "code",
   "execution_count": 375,
   "id": "aa6f945d",
   "metadata": {},
   "outputs": [
    {
     "data": {
      "text/html": [
       "<div>\n",
       "<style scoped>\n",
       "    .dataframe tbody tr th:only-of-type {\n",
       "        vertical-align: middle;\n",
       "    }\n",
       "\n",
       "    .dataframe tbody tr th {\n",
       "        vertical-align: top;\n",
       "    }\n",
       "\n",
       "    .dataframe thead th {\n",
       "        text-align: right;\n",
       "    }\n",
       "</style>\n",
       "<table border=\"1\" class=\"dataframe\">\n",
       "  <thead>\n",
       "    <tr style=\"text-align: right;\">\n",
       "      <th></th>\n",
       "      <th>SBP</th>\n",
       "      <th>DBP</th>\n",
       "    </tr>\n",
       "  </thead>\n",
       "  <tbody>\n",
       "    <tr>\n",
       "      <th>0</th>\n",
       "      <td>127.45</td>\n",
       "      <td>89.45</td>\n",
       "    </tr>\n",
       "    <tr>\n",
       "      <th>1</th>\n",
       "      <td>117.93</td>\n",
       "      <td>83.93</td>\n",
       "    </tr>\n",
       "    <tr>\n",
       "      <th>2</th>\n",
       "      <td>129.72</td>\n",
       "      <td>99.72</td>\n",
       "    </tr>\n",
       "    <tr>\n",
       "      <th>3</th>\n",
       "      <td>142.85</td>\n",
       "      <td>94.85</td>\n",
       "    </tr>\n",
       "    <tr>\n",
       "      <th>4</th>\n",
       "      <td>116.49</td>\n",
       "      <td>77.49</td>\n",
       "    </tr>\n",
       "  </tbody>\n",
       "</table>\n",
       "</div>"
      ],
      "text/plain": [
       "     SBP   DBP\n",
       "0 127.45 89.45\n",
       "1 117.93 83.93\n",
       "2 129.72 99.72\n",
       "3 142.85 94.85\n",
       "4 116.49 77.49"
      ]
     },
     "execution_count": 375,
     "metadata": {},
     "output_type": "execute_result"
    }
   ],
   "source": [
    "#수축기 혈압을 이용하여 이완기 혈압 생성\n",
    "df['DBP'] = df['SBP'] - np.random.randint(30,50,100) #이완기 혈압, 수축기 혈압에서 균등 분포 난수(30~50) 뺀 값\n",
    "df.head()"
   ]
  },
  {
   "cell_type": "markdown",
   "id": "48ab8c4d",
   "metadata": {},
   "source": [
    "## 2. 기술통계량 계산"
   ]
  },
  {
   "cell_type": "code",
   "execution_count": 376,
   "id": "504b5cdf",
   "metadata": {},
   "outputs": [
    {
     "name": "stdout",
     "output_type": "stream",
     "text": [
      "기술 통계량 요약:\n",
      "          SBP    DBP\n",
      "count 100.00 100.00\n",
      "mean  118.44  79.07\n",
      "std    13.62  15.30\n",
      "min    80.70  42.19\n",
      "25%   110.99  66.80\n",
      "50%   118.10  78.45\n",
      "75%   126.09  90.95\n",
      "max   147.78 113.07\n"
     ]
    }
   ],
   "source": [
    "desc_stats=df.describe() #기술 통계량 요약 출력\n",
    "print('기술 통계량 요약:\\n', desc_stats)"
   ]
  },
  {
   "cell_type": "markdown",
   "id": "f61ed4bc",
   "metadata": {},
   "source": [
    "50% 값이 중앙값이다. 평균과 비교해 정규분포인지 아닌지 추정할 수 있다. 현재 평균과 중앙값이 같은 값으로 나오므로 정규분포임을 추정할 수 있다."
   ]
  },
  {
   "cell_type": "markdown",
   "id": "86f64338",
   "metadata": {},
   "source": [
    "## 3. 혈압 분포 시각화\n",
    "subplot은 하나의 figure에 ax를 나눠서 그리는 것이다."
   ]
  },
  {
   "cell_type": "code",
   "execution_count": 377,
   "id": "a31d9dde",
   "metadata": {},
   "outputs": [
    {
     "data": {
      "image/png": "[encoded data removed]",
      "text/plain": [
       "<Figure size 800x500 with 2 Axes>"
      ]
     },
     "metadata": {},
     "output_type": "display_data"
    }
   ],
   "source": [
    "#서브플롯 생성\n",
    "fig, axes = plt.subplots(1, 2) #1행 2열의 서브플롯 생성\n",
    "\n",
    "#수축기 혈압(SBP) 분포 시각화\n",
    "sns.histplot(\n",
    "    df['SBP'],\n",
    "    kde=True,\n",
    "    ax=axes[0]  # 첫 번째 서브플롯에 그리기\n",
    ")\n",
    "#서브플롯 제목, x축, y축 레이블 설정\n",
    "axes[0].set_title('수축기 혈압(SBP) 분포')\n",
    "axes[0].set_xlabel('SBP (mmHg)')\n",
    "axes[0].set_ylabel('빈도수')\n",
    "\n",
    "#이완기 혈압(DBP) 분포 시각화\n",
    "sns.histplot(\n",
    "    df['DBP'],\n",
    "    kde=True,\n",
    "    ax=axes[1],  # 두 번째 서브플롯에 그리기\n",
    ")\n",
    "#서브플롯 제목, x축, y축 레이블 설정\n",
    "axes[1].set_title('이완기 혈압(DBP) 분포')\n",
    "axes[1].set_xlabel('DBP (mmHg)')\n",
    "axes[1].set_ylabel('빈도수')\n",
    "\n",
    "#서브플롯 간격 조정\n",
    "plt.tight_layout() #서브플롯 간격 조정\n",
    "plt.show() #그래프 출력"
   ]
  },
  {
   "cell_type": "markdown",
   "id": "5b944783",
   "metadata": {},
   "source": [
    "## 4. 혈압 상관관계 분석"
   ]
  },
  {
   "cell_type": "code",
   "execution_count": 378,
   "id": "18017643",
   "metadata": {},
   "outputs": [
    {
     "name": "stdout",
     "output_type": "stream",
     "text": [
      "수축기 혈압(SBP)과 이완기 혈압(DBP)의 상관계수: 0.901151300689107\n"
     ]
    }
   ],
   "source": [
    "#수축기 혈압(SBP)과 이완기 혈압(DBP)의 상관관계 분석\n",
    "corr=df['SBP'].corr(df['DBP']) #상관계수 계산\n",
    "print('수축기 혈압(SBP)과 이완기 혈압(DBP)의 상관계수:', corr)"
   ]
  },
  {
   "cell_type": "markdown",
   "id": "6448ef7f",
   "metadata": {},
   "source": [
    "혈압 상관관계 시각화"
   ]
  },
  {
   "cell_type": "code",
   "execution_count": 379,
   "id": "8f3a54ec",
   "metadata": {},
   "outputs": [
    {
     "data": {
      "image/png": "[encoded data removed]",
      "text/plain": [
       "<Figure size 800x500 with 1 Axes>"
      ]
     },
     "metadata": {},
     "output_type": "display_data"
    }
   ],
   "source": [
    "sns.scatterplot(\n",
    "    data=df,\n",
    "    x='SBP',\n",
    "    y='DBP',\n",
    ")\n",
    "plt.title('수축기 혈압(SBP)과 이완기 혈압(DBP)의 상관관계')\n",
    "plt.xlabel('수축기 혈압(SBP) (mmHg)')  \n",
    "plt.ylabel('이완기 혈압(DBP) (mmHg)')\n",
    "plt.show()"
   ]
  }
 ],
 "metadata": {
  "kernelspec": {
   "display_name": "stat",
   "language": "python",
   "name": "python3"
  },
  "language_info": {
   "codemirror_mode": {
    "name": "ipython",
    "version": 3
   },
   "file_extension": ".py",
   "mimetype": "text/x-python",
   "name": "python",
   "nbconvert_exporter": "python",
   "pygments_lexer": "ipython3",
   "version": "3.10.18"
  }
 },
 "nbformat": 4,
 "nbformat_minor": 5
}
