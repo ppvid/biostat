{
 "cells": [
  {
   "cell_type": "markdown",
   "id": "94bf92e1",
   "metadata": {},
   "source": [
    "c221011 김수민"
   ]
  },
  {
   "cell_type": "markdown",
   "id": "b040b5c0",
   "metadata": {},
   "source": [
    "## statsmodels 라이브러리 활용 회귀분석\n",
    "변수의 명칭\n",
    "- endog: 내생변수 = 종속변수 = x\n",
    "- exog: 외생변수 = 독립변수 = y\n",
    "- 일반적으로 내생변수는 통계 모형에 포함된 변수이고 외생변수는 포함되지 않은 것들을 말하지만 이 라이브러리 안에서는 다른 의미로 정의해 사용함으로 주의 \n",
    "\n",
    "통계 모형 구현 방식\n",
    "- statsmodels.api\n",
    "    - 종속변수와 독립변수를 직접 지정\n",
    "    - `함수명(종속변수, 독립변수)`\n",
    "    - 함수명의 앞글자는 대문자로 시작\n",
    "- statsmodels.formula.api\n",
    "    - Pasty 패키지에서 사용하는 모형 정의 문자열을 사용\n",
    "    - `함수명('종속변수~독립변수', data=데이터프레임) `형태로 사용\n",
    "    - 함수명의 앞글자는 소문자로 시작\n",
    "\n",
    "statsmodels.api\n",
    "- 통계 분석을 위한 클래스와 함수를 제공\n",
    "- 주요함수\n",
    "    - Regression(OLS,GLS), Imputation(MI, MICE) 등\n",
    "\n",
    "statsmodels.formula.api\n",
    "- statsmodels.api에서 제공하는 함수를 Pasty 수식 문자열과 Dataframe을 사용할 수 있도록 하기 위한 편의 인터페이스\n",
    "- 주요함수(소문자)\n",
    "    - ols(formula, data): Ordinary Least Squares(OLS)\n",
    "    - logit(formula, data): 로지스틱 회귀 모형\n",
    "    - poisson(formula, data): 포아송 회귀 모형\n",
    "    - glm(formula, data, family): 일반화 선형 모형\n",
    "\n",
    "statsmodels 적용 프로세스\n",
    "1. 라이브러리 임포트 (statsmodels.api as sm/ statsmodels.formula.api as smf)\n",
    "2. 데이터 준비\n",
    "3. 통계 모형 객체 생성\n",
    "    - model=선택한 라이브러리 사용\n",
    "4. 모형 피팅\n",
    "    - result=model.fit()\n",
    "5. 분석 결과 요약\n",
    "    - result.summary()\n",
    "6. 모형 평가\n",
    "    - 모형 적합성, 유의성 검정 등\n",
    "7. 모형 예측\n",
    "    - result.predict(X)\n"
   ]
  },
  {
   "cell_type": "markdown",
   "id": "ca501015",
   "metadata": {},
   "source": [
    "### 1. 단순 선형 회귀 분석 예제\n",
    "- 수축기 혈압(SBP, 독립변수)에 따른 이완기 혈압(DBP, 종속변수)의 회귀분석\n",
    "- 데이터를 가상으로 생성하여 회귀분석을 수행\n",
    "$$ DBP = -5.0 + 0.7\\times SBP +\\varepsilon $$"
   ]
  },
  {
   "cell_type": "markdown",
   "id": "f90560bb",
   "metadata": {},
   "source": [
    "데이터 생성"
   ]
  },
  {
   "cell_type": "code",
   "execution_count": 64,
   "id": "e1dbb5a4",
   "metadata": {},
   "outputs": [
    {
     "data": {
      "text/html": [
       "<div>\n",
       "<style scoped>\n",
       "    .dataframe tbody tr th:only-of-type {\n",
       "        vertical-align: middle;\n",
       "    }\n",
       "\n",
       "    .dataframe tbody tr th {\n",
       "        vertical-align: top;\n",
       "    }\n",
       "\n",
       "    .dataframe thead th {\n",
       "        text-align: right;\n",
       "    }\n",
       "</style>\n",
       "<table border=\"1\" class=\"dataframe\">\n",
       "  <thead>\n",
       "    <tr style=\"text-align: right;\">\n",
       "      <th></th>\n",
       "      <th>SBP</th>\n",
       "      <th>DBP</th>\n",
       "    </tr>\n",
       "  </thead>\n",
       "  <tbody>\n",
       "    <tr>\n",
       "      <th>0</th>\n",
       "      <td>127.45</td>\n",
       "      <td>88.22</td>\n",
       "    </tr>\n",
       "    <tr>\n",
       "      <th>1</th>\n",
       "      <td>117.93</td>\n",
       "      <td>89.55</td>\n",
       "    </tr>\n",
       "    <tr>\n",
       "      <th>2</th>\n",
       "      <td>129.72</td>\n",
       "      <td>84.80</td>\n",
       "    </tr>\n",
       "    <tr>\n",
       "      <th>3</th>\n",
       "      <td>142.85</td>\n",
       "      <td>106.99</td>\n",
       "    </tr>\n",
       "    <tr>\n",
       "      <th>4</th>\n",
       "      <td>116.49</td>\n",
       "      <td>67.54</td>\n",
       "    </tr>\n",
       "  </tbody>\n",
       "</table>\n",
       "</div>"
      ],
      "text/plain": [
       "     SBP    DBP\n",
       "0 127.45  88.22\n",
       "1 117.93  89.55\n",
       "2 129.72  84.80\n",
       "3 142.85 106.99\n",
       "4 116.49  67.54"
      ]
     },
     "execution_count": 64,
     "metadata": {},
     "output_type": "execute_result"
    }
   ],
   "source": [
    "#라이브러리 임포트 및 기본 설정\n",
    "import pandas as pd\n",
    "import numpy as np\n",
    "import matplotlib.pyplot as plt\n",
    "import seaborn as sns\n",
    "import koreanize_matplotlib\n",
    "pd.options.display.float_format='{:.2f}'.format\n",
    "plt.rcParams['figure.figsize']=[8,5]\n",
    "\n",
    "#데이터 생성\n",
    "np.random.seed(42)\n",
    "#수축기혈압(SBP) 데이터 생성\n",
    "df= pd.DataFrame({\n",
    "    'SBP': np.random.normal(120,15,30)\n",
    "})\n",
    "#이완기 혈압(DBP):-0.5+0.7*SBP+랜덤노이즈\n",
    "df['DBP']=-5.0+df['SBP']*0.7+np.random.randint(-15,15,30)\n",
    "df.head()"
   ]
  },
  {
   "cell_type": "markdown",
   "id": "7db7b322",
   "metadata": {},
   "source": [
    "변수의 데이터 유형 확인\n",
    "- 회귀분석은 모두 수치형 데이터여야 함(등간, 비율척도)"
   ]
  },
  {
   "cell_type": "code",
   "execution_count": 65,
   "id": "333e1f2d",
   "metadata": {},
   "outputs": [
    {
     "name": "stdout",
     "output_type": "stream",
     "text": [
      "<class 'pandas.core.frame.DataFrame'>\n",
      "RangeIndex: 30 entries, 0 to 29\n",
      "Data columns (total 2 columns):\n",
      " #   Column  Non-Null Count  Dtype  \n",
      "---  ------  --------------  -----  \n",
      " 0   SBP     30 non-null     float64\n",
      " 1   DBP     30 non-null     float64\n",
      "dtypes: float64(2)\n",
      "memory usage: 608.0 bytes\n"
     ]
    }
   ],
   "source": [
    "df.info()"
   ]
  },
  {
   "cell_type": "markdown",
   "id": "45bf524a",
   "metadata": {},
   "source": [
    "- float64 유형으로 데이터 타입이 실수임을 알 수 있다.   \n",
    "- 회귀분석 진행 가능하다. "
   ]
  },
  {
   "cell_type": "code",
   "execution_count": 66,
   "id": "cfedadfe",
   "metadata": {},
   "outputs": [
    {
     "data": {
      "text/html": [
       "<div>\n",
       "<style scoped>\n",
       "    .dataframe tbody tr th:only-of-type {\n",
       "        vertical-align: middle;\n",
       "    }\n",
       "\n",
       "    .dataframe tbody tr th {\n",
       "        vertical-align: top;\n",
       "    }\n",
       "\n",
       "    .dataframe thead th {\n",
       "        text-align: right;\n",
       "    }\n",
       "</style>\n",
       "<table border=\"1\" class=\"dataframe\">\n",
       "  <thead>\n",
       "    <tr style=\"text-align: right;\">\n",
       "      <th></th>\n",
       "      <th>SBP</th>\n",
       "      <th>DBP</th>\n",
       "    </tr>\n",
       "  </thead>\n",
       "  <tbody>\n",
       "    <tr>\n",
       "      <th>count</th>\n",
       "      <td>30.00</td>\n",
       "      <td>30.00</td>\n",
       "    </tr>\n",
       "    <tr>\n",
       "      <th>mean</th>\n",
       "      <td>117.18</td>\n",
       "      <td>76.12</td>\n",
       "    </tr>\n",
       "    <tr>\n",
       "      <th>std</th>\n",
       "      <td>13.50</td>\n",
       "      <td>14.22</td>\n",
       "    </tr>\n",
       "    <tr>\n",
       "      <th>min</th>\n",
       "      <td>91.30</td>\n",
       "      <td>52.89</td>\n",
       "    </tr>\n",
       "    <tr>\n",
       "      <th>25%</th>\n",
       "      <td>111.13</td>\n",
       "      <td>66.91</td>\n",
       "    </tr>\n",
       "    <tr>\n",
       "      <th>50%</th>\n",
       "      <td>116.49</td>\n",
       "      <td>72.81</td>\n",
       "    </tr>\n",
       "    <tr>\n",
       "      <th>75%</th>\n",
       "      <td>125.41</td>\n",
       "      <td>87.59</td>\n",
       "    </tr>\n",
       "    <tr>\n",
       "      <th>max</th>\n",
       "      <td>143.69</td>\n",
       "      <td>108.58</td>\n",
       "    </tr>\n",
       "  </tbody>\n",
       "</table>\n",
       "</div>"
      ],
      "text/plain": [
       "         SBP    DBP\n",
       "count  30.00  30.00\n",
       "mean  117.18  76.12\n",
       "std    13.50  14.22\n",
       "min    91.30  52.89\n",
       "25%   111.13  66.91\n",
       "50%   116.49  72.81\n",
       "75%   125.41  87.59\n",
       "max   143.69 108.58"
      ]
     },
     "execution_count": 66,
     "metadata": {},
     "output_type": "execute_result"
    }
   ],
   "source": [
    "#기술통계량 확인\n",
    "df.describe()"
   ]
  },
  {
   "cell_type": "markdown",
   "id": "2ff6e54c",
   "metadata": {},
   "source": [
    "- 평균과 중앙값이 유사하므로 정규분포를 가진다고 추측할 수 있다. "
   ]
  },
  {
   "cell_type": "markdown",
   "id": "2b69c4ed",
   "metadata": {},
   "source": [
    "산점도 분석"
   ]
  },
  {
   "cell_type": "code",
   "execution_count": 67,
   "id": "a02290c1",
   "metadata": {},
   "outputs": [
    {
     "data": {
      "image/png": "[encoded data removed]",
      "text/plain": [
       "<Figure size 800x500 with 1 Axes>"
      ]
     },
     "metadata": {},
     "output_type": "display_data"
    }
   ],
   "source": [
    "df.plot(\n",
    "    kind='scatter',\n",
    "    x='SBP',\n",
    "    y='DBP',\n",
    "    title='이완기 혈압(DBP) vs 수축기 혈압(SBP)'\n",
    ");"
   ]
  },
  {
   "cell_type": "markdown",
   "id": "903c4383",
   "metadata": {},
   "source": [
    "- 대략 선형 관계인지, 데이터가 정규분포로 존재하는 지, 이상치가 존재하는지 등을 파악할 수 있다.\n",
    "- 현재 그래프에서는 r값이 0.8쯤 나온다고 생각해볼 수 있다.(밀집도) \n",
    "- 회귀선은 데이터가 존재하는 구간에서만 존재한다. 이 구간을 내삽이라 하며 벗어나는 구간은 외삽이라 하는데 내삽인 구간 내에서만 회귀선이 유효하다. 회귀선을 늘려서 사용할 수 없다.   "
   ]
  },
  {
   "cell_type": "markdown",
   "id": "d314cf22",
   "metadata": {},
   "source": [
    "회귀모형 수립\n",
    "- 단순선형회귀모형\n",
    "$$ DBP = \\beta_0 + \\beta_1 \\times SBP + \\varepsilon $$"
   ]
  },
  {
   "cell_type": "markdown",
   "id": "c2cd48a4",
   "metadata": {},
   "source": [
    "상관분석"
   ]
  },
  {
   "cell_type": "code",
   "execution_count": 68,
   "id": "81fcac32",
   "metadata": {},
   "outputs": [
    {
     "name": "stdout",
     "output_type": "stream",
     "text": [
      "Pearson 상관계수: 0.751, p-값 0.000\n",
      "Pearson 상관계수는 통계적으로 유의함\n"
     ]
    }
   ],
   "source": [
    "from scipy.stats import pearsonr\n",
    "\n",
    "pearson_corr, pearson_p = pearsonr(df['DBP'],df['SBP'])\n",
    "print(f'Pearson 상관계수: {pearson_corr:.3f}, p-값 {pearson_p:.3f}')\n",
    "if pearson_p<=0.05:\n",
    "    print('Pearson 상관계수는 통계적으로 유의함')\n",
    "else:\n",
    "    print('Pearson 상관계수는 통계적으로 유의하지 않음')"
   ]
  },
  {
   "cell_type": "markdown",
   "id": "660821ac",
   "metadata": {},
   "source": [
    "회귀계수의 추정"
   ]
  },
  {
   "cell_type": "markdown",
   "id": "d9ec7413",
   "metadata": {},
   "source": [
    "- 상관계수는 0.75로 강한 양의 상관계수로 나타남"
   ]
  },
  {
   "cell_type": "code",
   "execution_count": 69,
   "id": "2e8a27d3",
   "metadata": {},
   "outputs": [],
   "source": [
    "import statsmodels.formula.api as smf\n",
    "#회귀모형 생성 (종족변수 ~ 독립변수)\n",
    "formula='DBP~SBP'\n",
    "#ols클래스로 선형 회귀 모형의 객체 model을 생성\n",
    "model= smf.ols(formula,data=df)\n",
    "#fit 메서드로 모형 추정, 추정 결과는 객체 result에 저장\n",
    "result = model.fit()"
   ]
  },
  {
   "cell_type": "code",
   "execution_count": 70,
   "id": "6947d77f",
   "metadata": {},
   "outputs": [
    {
     "name": "stdout",
     "output_type": "stream",
     "text": [
      "표본회귀선(모회귀선의 추정)\n",
      "절편은 -16.499809964665666이고, 기울기는 0.7904592019618323\n",
      "따라서, 추정된 회귀선은\n",
      "DBP = -16.50+0.79*SBP\n"
     ]
    }
   ],
   "source": [
    "#추정한 회귀선\n",
    "print('표본회귀선(모회귀선의 추정)')\n",
    "print(f\"절편은 {result.params['Intercept']}이고, 기울기는 {result.params['SBP']}\")\n",
    "print('따라서, 추정된 회귀선은')\n",
    "print(f\"DBP = {result.params['Intercept']:.2f}+{result.params['SBP']:.2f}*SBP\")\n"
   ]
  },
  {
   "cell_type": "markdown",
   "id": "4eef68cc",
   "metadata": {},
   "source": [
    "- 절편의 값은 원래 모형과 차이가 있지만 기울기는 유사하게 나옴. 데이터 개수가 더 충분하다면 정확도가 높아질 것 "
   ]
  },
  {
   "cell_type": "markdown",
   "id": "98929dc2",
   "metadata": {},
   "source": [
    "표본회귀선(모회귀선의 추정)     \n",
    "절편은 -7.897977695740927이고, 기울기는 0.7197393807072535      \n",
    "따라서, 추정된 회귀선은     \n",
    "DBP = -7.90+0.72*SBP\n",
    "\n",
    "- 위는 데이터 개수를 100개로 늘렸을 때 결과값으로  절편과 독립변수의 계수 모두 전보다 회귀계수 원모형과 유사함 "
   ]
  },
  {
   "cell_type": "markdown",
   "id": "0fceee82",
   "metadata": {},
   "source": [
    "모형 평가"
   ]
  },
  {
   "cell_type": "code",
   "execution_count": 71,
   "id": "9733cc1f",
   "metadata": {},
   "outputs": [
    {
     "name": "stdout",
     "output_type": "stream",
     "text": [
      "==================== 1. 회귀 모형의 적합도 평가 ====================\n",
      "결정계수: 0.5633721028347718\n"
     ]
    }
   ],
   "source": [
    "print('='*20, '1. 회귀 모형의 적합도 평가', '='*20)\n",
    "print(f\"결정계수: {result.rsquared}\")"
   ]
  },
  {
   "cell_type": "markdown",
   "id": "6e432193",
   "metadata": {},
   "source": [
    "- 결정계수가 아주 높은 값은 아님(밀집도가 보통 정도)"
   ]
  },
  {
   "cell_type": "markdown",
   "id": "af76d2b0",
   "metadata": {},
   "source": [
    "- 회귀 모형의 적합성 검정은 표본 회귀 모형이 주어진 데이터를 얼마나 잘 설명하는지를 평가\n",
    "- 상대 평가 방법인 결정 계수($R^2$)로 평가\n",
    "    - $R^2$가 1에 가까울수록 적합도가 높음(표본점이 표본회귀선에 밀집)\n",
    "    - 상관계수의 제곱과 유사"
   ]
  },
  {
   "cell_type": "code",
   "execution_count": 72,
   "id": "928520e1",
   "metadata": {},
   "outputs": [
    {
     "name": "stdout",
     "output_type": "stream",
     "text": [
      "==================== 2. 회귀 계수의 유의성 검정 ====================\n",
      "SBP의 회귀계수의 p-값: 0.000\n",
      "회귀계수는 통계적으로 유의함\n"
     ]
    }
   ],
   "source": [
    "print('='*20, '2. 회귀 계수의 유의성 검정', '='*20)\n",
    "print(f\"SBP의 회귀계수의 p-값: {result.pvalues['SBP']:.3f}\")\n",
    "if result.pvalues['SBP']<0.05:\n",
    "    print('회귀계수는 통계적으로 유의함')\n",
    "else:\n",
    "    print('회귀계수는 통계적으로 유의하지 않음')"
   ]
  },
  {
   "cell_type": "markdown",
   "id": "2f2094a9",
   "metadata": {},
   "source": [
    "- 회귀 계수의 유의성 검정은 독립 변수의 계수가 0인지 아닌지 검정하는 것으로 절편은 수행하지 않는다.\n",
    "- $\\beta_k$ 가 0이 아님을 검정하는 것으로 자유도 (n-2)인 t-검정을 사용\n",
    "- 회귀계수가 0이면 해당 독립변수가 종속변수에 영향을 미친다고 볼 수 없으므로 회귀모형에서 제외해야 함"
   ]
  },
  {
   "cell_type": "code",
   "execution_count": 73,
   "id": "41821b0e",
   "metadata": {},
   "outputs": [
    {
     "name": "stdout",
     "output_type": "stream",
     "text": [
      "==================== 3. 회귀모형의 유의성 검정 ====================\n",
      "F-통계량: 36.13, p-값: 0.000\n",
      "회귀모형은 통계적으로 유의함\n"
     ]
    }
   ],
   "source": [
    "print('='*20, '3. 회귀모형의 유의성 검정', '='*20)\n",
    "print(f'F-통계량: {result.fvalue:.2f}, p-값: {result.f_pvalue:.3f}')\n",
    "if result.f_pvalue<0.05:\n",
    "    print('회귀모형은 통계적으로 유의함')\n",
    "else:\n",
    "    print('회귀모형은 통계적으로 유의하지 않음')"
   ]
  },
  {
   "cell_type": "markdown",
   "id": "39c73673",
   "metadata": {},
   "source": [
    "- 회귀 모형의 유의성 검정은 독립 변수의 계수가 적어도 하나는 0이 아님을 검정하는 것\n",
    "    - 모든 독립변수의 계수가 0이면, 상수항만 유의하므로 회귀 관계가 유지가 안됨\n",
    "- 독립변수가 한 개인 단순회귀모형에서는 회귀계수의 유의성 검정과 동일함\n",
    "- 독립변수가 여러 개인 다중회귀모형에서는 분산분석(ANOVA)을 이용하여 회귀모형의 유의성을 검정"
   ]
  },
  {
   "cell_type": "markdown",
   "id": "eaccf3c5",
   "metadata": {},
   "source": [
    "| 상황           | 해석              | 조치                    |\n",
    "| ------------ | --------------- | --------------------- |\n",
    "| F 유의 & t 비유의 | 다중공선성 의심        | VIF 분석, 변수 제거, 정규화 회귀 |\n",
    "| F 비유의 & t 유의 | 데이터 불안정, 과적합 우려 | 샘플 증가, 모델 수정, 교차검증    |\n",
    "\n",
    "- 📌 참고: 단순회귀에서는 F = t²\n"
   ]
  },
  {
   "cell_type": "markdown",
   "id": "72bcb801",
   "metadata": {},
   "source": [
    "statsmodels 회귀분석 결과 정리"
   ]
  },
  {
   "cell_type": "code",
   "execution_count": 74,
   "id": "3d86b370",
   "metadata": {},
   "outputs": [
    {
     "data": {
      "text/html": [
       "<table class=\"simpletable\">\n",
       "<caption>OLS Regression Results</caption>\n",
       "<tr>\n",
       "  <th>Dep. Variable:</th>           <td>DBP</td>       <th>  R-squared:         </th> <td>   0.563</td>\n",
       "</tr>\n",
       "<tr>\n",
       "  <th>Model:</th>                   <td>OLS</td>       <th>  Adj. R-squared:    </th> <td>   0.548</td>\n",
       "</tr>\n",
       "<tr>\n",
       "  <th>Method:</th>             <td>Least Squares</td>  <th>  F-statistic:       </th> <td>   36.13</td>\n",
       "</tr>\n",
       "<tr>\n",
       "  <th>Date:</th>             <td>Fri, 04 Jul 2025</td> <th>  Prob (F-statistic):</th> <td>1.78e-06</td>\n",
       "</tr>\n",
       "<tr>\n",
       "  <th>Time:</th>                 <td>20:36:46</td>     <th>  Log-Likelihood:    </th> <td> -109.26</td>\n",
       "</tr>\n",
       "<tr>\n",
       "  <th>No. Observations:</th>      <td>    30</td>      <th>  AIC:               </th> <td>   222.5</td>\n",
       "</tr>\n",
       "<tr>\n",
       "  <th>Df Residuals:</th>          <td>    28</td>      <th>  BIC:               </th> <td>   225.3</td>\n",
       "</tr>\n",
       "<tr>\n",
       "  <th>Df Model:</th>              <td>     1</td>      <th>                     </th>     <td> </td>   \n",
       "</tr>\n",
       "<tr>\n",
       "  <th>Covariance Type:</th>      <td>nonrobust</td>    <th>                     </th>     <td> </td>   \n",
       "</tr>\n",
       "</table>\n",
       "<table class=\"simpletable\">\n",
       "<tr>\n",
       "      <td></td>         <th>coef</th>     <th>std err</th>      <th>t</th>      <th>P>|t|</th>  <th>[0.025</th>    <th>0.975]</th>  \n",
       "</tr>\n",
       "<tr>\n",
       "  <th>Intercept</th> <td>  -16.4998</td> <td>   15.509</td> <td>   -1.064</td> <td> 0.296</td> <td>  -48.268</td> <td>   15.268</td>\n",
       "</tr>\n",
       "<tr>\n",
       "  <th>SBP</th>       <td>    0.7905</td> <td>    0.132</td> <td>    6.011</td> <td> 0.000</td> <td>    0.521</td> <td>    1.060</td>\n",
       "</tr>\n",
       "</table>\n",
       "<table class=\"simpletable\">\n",
       "<tr>\n",
       "  <th>Omnibus:</th>       <td> 6.988</td> <th>  Durbin-Watson:     </th> <td>   2.156</td>\n",
       "</tr>\n",
       "<tr>\n",
       "  <th>Prob(Omnibus):</th> <td> 0.030</td> <th>  Jarque-Bera (JB):  </th> <td>   2.148</td>\n",
       "</tr>\n",
       "<tr>\n",
       "  <th>Skew:</th>          <td> 0.175</td> <th>  Prob(JB):          </th> <td>   0.342</td>\n",
       "</tr>\n",
       "<tr>\n",
       "  <th>Kurtosis:</th>      <td> 1.737</td> <th>  Cond. No.          </th> <td>1.05e+03</td>\n",
       "</tr>\n",
       "</table><br/><br/>Notes:<br/>[1] Standard Errors assume that the covariance matrix of the errors is correctly specified.<br/>[2] The condition number is large, 1.05e+03. This might indicate that there are<br/>strong multicollinearity or other numerical problems."
      ],
      "text/latex": [
       "\\begin{center}\n",
       "\\begin{tabular}{lclc}\n",
       "\\toprule\n",
       "\\textbf{Dep. Variable:}    &       DBP        & \\textbf{  R-squared:         } &     0.563   \\\\\n",
       "\\textbf{Model:}            &       OLS        & \\textbf{  Adj. R-squared:    } &     0.548   \\\\\n",
       "\\textbf{Method:}           &  Least Squares   & \\textbf{  F-statistic:       } &     36.13   \\\\\n",
       "\\textbf{Date:}             & Fri, 04 Jul 2025 & \\textbf{  Prob (F-statistic):} &  1.78e-06   \\\\\n",
       "\\textbf{Time:}             &     20:36:46     & \\textbf{  Log-Likelihood:    } &   -109.26   \\\\\n",
       "\\textbf{No. Observations:} &          30      & \\textbf{  AIC:               } &     222.5   \\\\\n",
       "\\textbf{Df Residuals:}     &          28      & \\textbf{  BIC:               } &     225.3   \\\\\n",
       "\\textbf{Df Model:}         &           1      & \\textbf{                     } &             \\\\\n",
       "\\textbf{Covariance Type:}  &    nonrobust     & \\textbf{                     } &             \\\\\n",
       "\\bottomrule\n",
       "\\end{tabular}\n",
       "\\begin{tabular}{lcccccc}\n",
       "                   & \\textbf{coef} & \\textbf{std err} & \\textbf{t} & \\textbf{P$> |$t$|$} & \\textbf{[0.025} & \\textbf{0.975]}  \\\\\n",
       "\\midrule\n",
       "\\textbf{Intercept} &     -16.4998  &       15.509     &    -1.064  &         0.296        &      -48.268    &       15.268     \\\\\n",
       "\\textbf{SBP}       &       0.7905  &        0.132     &     6.011  &         0.000        &        0.521    &        1.060     \\\\\n",
       "\\bottomrule\n",
       "\\end{tabular}\n",
       "\\begin{tabular}{lclc}\n",
       "\\textbf{Omnibus:}       &  6.988 & \\textbf{  Durbin-Watson:     } &    2.156  \\\\\n",
       "\\textbf{Prob(Omnibus):} &  0.030 & \\textbf{  Jarque-Bera (JB):  } &    2.148  \\\\\n",
       "\\textbf{Skew:}          &  0.175 & \\textbf{  Prob(JB):          } &    0.342  \\\\\n",
       "\\textbf{Kurtosis:}      &  1.737 & \\textbf{  Cond. No.          } & 1.05e+03  \\\\\n",
       "\\bottomrule\n",
       "\\end{tabular}\n",
       "%\\caption{OLS Regression Results}\n",
       "\\end{center}\n",
       "\n",
       "Notes: \\newline\n",
       " [1] Standard Errors assume that the covariance matrix of the errors is correctly specified. \\newline\n",
       " [2] The condition number is large, 1.05e+03. This might indicate that there are \\newline\n",
       " strong multicollinearity or other numerical problems."
      ],
      "text/plain": [
       "<class 'statsmodels.iolib.summary.Summary'>\n",
       "\"\"\"\n",
       "                            OLS Regression Results                            \n",
       "==============================================================================\n",
       "Dep. Variable:                    DBP   R-squared:                       0.563\n",
       "Model:                            OLS   Adj. R-squared:                  0.548\n",
       "Method:                 Least Squares   F-statistic:                     36.13\n",
       "Date:                Fri, 04 Jul 2025   Prob (F-statistic):           1.78e-06\n",
       "Time:                        20:36:46   Log-Likelihood:                -109.26\n",
       "No. Observations:                  30   AIC:                             222.5\n",
       "Df Residuals:                      28   BIC:                             225.3\n",
       "Df Model:                           1                                         \n",
       "Covariance Type:            nonrobust                                         \n",
       "==============================================================================\n",
       "                 coef    std err          t      P>|t|      [0.025      0.975]\n",
       "------------------------------------------------------------------------------\n",
       "Intercept    -16.4998     15.509     -1.064      0.296     -48.268      15.268\n",
       "SBP            0.7905      0.132      6.011      0.000       0.521       1.060\n",
       "==============================================================================\n",
       "Omnibus:                        6.988   Durbin-Watson:                   2.156\n",
       "Prob(Omnibus):                  0.030   Jarque-Bera (JB):                2.148\n",
       "Skew:                           0.175   Prob(JB):                        0.342\n",
       "Kurtosis:                       1.737   Cond. No.                     1.05e+03\n",
       "==============================================================================\n",
       "\n",
       "Notes:\n",
       "[1] Standard Errors assume that the covariance matrix of the errors is correctly specified.\n",
       "[2] The condition number is large, 1.05e+03. This might indicate that there are\n",
       "strong multicollinearity or other numerical problems.\n",
       "\"\"\""
      ]
     },
     "execution_count": 74,
     "metadata": {},
     "output_type": "execute_result"
    }
   ],
   "source": [
    "result.summary()"
   ]
  },
  {
   "cell_type": "markdown",
   "id": "b5484077",
   "metadata": {},
   "source": [
    "- OLS Regression Results\n",
    "    - Ordinary Least Squares(일반 최소 제곱법)모델 사용해 회귀분석\n",
    "- Dep. Variable:\tDBP\n",
    "    - 종속변수가 DBP이다\n",
    "- R-squared:\t0.563 \n",
    "    - 독립변수 1개일 때(단일) 결정계수 계산\n",
    "    - Adj. R-squared:\t0.548\n",
    "        - 독립 변수 1개 이상(다중) 시 사용\n",
    "- F-statistic:\t36.13\n",
    "- Prob (F-statistic):\t1.78e-06\n",
    "    - 모형의 유의성 검정(유의수준보다 작아야 유의함)\n",
    "- No. Observations:\t30\t\n",
    "    - 관측치의 개수\n",
    "- Df Residuals:\t28\n",
    "    - 잔차의 자유도(관측치의 개수-독립변수의 개수-1)\n",
    "- Df Model:\t1\t\n",
    "    - 독립변수의 개수\n",
    "- Intercept: 절편\n",
    "- x1,x2: 독립변수\n",
    "- x1:x2: 교호작용\n",
    "    - 각 계수(coef값)으로 모형 만듬\n",
    "    - 각 P>|t|값으로 회귀계수 t-검정 진행, prob가 유의수준보다 작아야 유의함(절편은 빼고 진행)"
   ]
  }
 ],
 "metadata": {
  "kernelspec": {
   "display_name": "stat",
   "language": "python",
   "name": "python3"
  },
  "language_info": {
   "codemirror_mode": {
    "name": "ipython",
    "version": 3
   },
   "file_extension": ".py",
   "mimetype": "text/x-python",
   "name": "python",
   "nbconvert_exporter": "python",
   "pygments_lexer": "ipython3",
   "version": "3.10.18"
  }
 },
 "nbformat": 4,
 "nbformat_minor": 5
}
