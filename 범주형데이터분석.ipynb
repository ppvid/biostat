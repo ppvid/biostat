{
 "cells": [
  {
   "cell_type": "markdown",
   "id": "cf2d9f6f",
   "metadata": {},
   "source": [
    "## 범주형 데이터의 검정\n",
    "- 기본 원리: 카이제곱-검정\n",
    "    - 관측 도수: 실제 관측됨 도수\n",
    "    - 기대 도수: 특정한 분포나 독립성을 따른다는 가정에서 나올 수 있는 도수\n",
    "\n",
    "- 검정\n",
    "    - p-value < 유의수준 -> 관측도수와 기대도수가 차이있음 -> 상관관계 있음\n",
    "    - p-value>= 유의수준 -> 관측도수와 기대도수가 차이가 없음 -> 상관관계 없음"
   ]
  },
  {
   "cell_type": "markdown",
   "id": "8da3b613",
   "metadata": {},
   "source": [
    "### 1. 적합성 검정\n",
    "- 하나의 변수(요인)에 대하여 범주(수준)별 비율이 특정 분포(비율)을 따르는 지 검정하는 것\n",
    "- 적합성 검정을 하기 위한 조건\n",
    "    - 하나의 모집단에 상호 배타적인 여러 범주가 있는 데이터\n",
    "    - 데이터는 랜덤 표집으로 되어야 함\n",
    "    - 총 빈도수가 충분히 크고(>50), 각 수준별 5개 이상의 기대도수 필요\n",
    "        - 불만족 시, 제 1종 오류와 제 2종 오류가 증가\n",
    "가설\n",
    "- 귀무가설: 관측도수와 기대도수가 차이가 없다.\n",
    "- 대립가설: 관측도수와 기대도수가 차이가 있다."
   ]
  },
  {
   "cell_type": "markdown",
   "id": "289c3b00",
   "metadata": {},
   "source": [
    "데이터수집\n",
    "- 하나의 변수에 대하여 수준별 관측도수(범주별 데이터 개수) 수집"
   ]
  },
  {
   "cell_type": "markdown",
   "id": "652f93a3",
   "metadata": {},
   "source": [
    "예시\n",
    "- 상황\n",
    "    - 고혈압 환자 100명 치료 방법 선호도 조사. 예상 선호도는 약물치료(A) 50%, 식이요법(B) 30%, 운동요법(C) 20%이다. 선호도 조사결과가 다음과 같을 때, 예상 선호도와 차이가 있는 지 검정\n",
    "- 데이터수집\n",
    "    - 약물치료(A) 60명, 식이요법(B) 25명, 운동요법(C) 15명"
   ]
  },
  {
   "cell_type": "code",
   "execution_count": 2,
   "id": "0e4df277",
   "metadata": {},
   "outputs": [
    {
     "name": "stdout",
     "output_type": "stream",
     "text": [
      "카이제곱 통계량: 4.0833\n",
      "p_value: 0.1298\n",
      "귀무가설 채택: 관측된 데이터는 예상 비율과 일치함\n"
     ]
    }
   ],
   "source": [
    "from scipy.stats import chisquare\n",
    "#유의수준\n",
    "alpha=0.05\n",
    "\n",
    "#관측도수\n",
    "observed=[60,25,15]\n",
    "\n",
    "#기대도수. 각 치료 방법에 대한 선호도 예상 비율\n",
    "total_patient=sum(observed)\n",
    "expected_ratios=[0.5,0.3,0.2]\n",
    "expected=[total_patient*ratio for ratio in expected_ratios]\n",
    "\n",
    "#적합성 검정 수행\n",
    "chi2_stat, p_value= chisquare(f_obs=observed, f_exp=expected)\n",
    "print(f'카이제곱 통계량: {chi2_stat:.4f}')\n",
    "print(f'p_value: {p_value:.4f}')\n",
    "if p_value <0.05:\n",
    "    print('귀무가설 기각: 관측된 데이터는 예상 비율과 일치하지 않음')\n",
    "else:\n",
    "    print('귀무가설 채택: 관측된 데이터는 예상 비율과 일치함')"
   ]
  },
  {
   "cell_type": "markdown",
   "id": "aeb871ae",
   "metadata": {},
   "source": [
    "### 2. 동질성 검정\n",
    "- 범주를 가진 요인이 1개이고 부-모집단이 여러 개일 때 모든 부-모집단이 동일한 분포를 하고 있는 지 검정\n",
    "- 동질성 검정을 하기 위한 조건\n",
    "    - 여러 개의 부-모집단에 대해 하나의 변수(요인)의 범주(수준)별 비율이 동일한 지 검정(서로 배타적인 범주여야 함)\n",
    "    - 각 부-모집단에 대해 무작위 표집을 하여야 함\n",
    "    - 총빈도수가 충분히 크고(>50), 각 수준별 5개 이상의 기대도수 필요\n",
    "        - 불만족 시, 제1종 오류와 제2종 오류가 증가\n",
    "가설\n",
    "- 귀무가설: sub-group간 요인의 수준별 비율 차이가 없다.(모든 sub-group이 동일 분포이다.)\n",
    "- 대립가설: sub-group간 요인의 수준별 비율 차이가 있는 것이 하나라도 있다."
   ]
  },
  {
   "cell_type": "markdown",
   "id": "0142859a",
   "metadata": {},
   "source": [
    "데이터 수집\n",
    "- 각 부-모집단별로 정해진 표본의 크기만큼 수집"
   ]
  },
  {
   "cell_type": "markdown",
   "id": "9d12ba9d",
   "metadata": {},
   "source": [
    "예시\n",
    "\n",
    "- 상황\n",
    "    - 골절환자 200명에 대하여 2개의 다른 치료방법(A,B)의 치료 결과에 대한 조사. 치료 결과는 완치, 부분완치, 실패로 구분하였다. 두 병원의 치료결과에 차이가 있는지 검정\n",
    "\n",
    "- 데이터수집\n",
    "    - 방법A: 완치 50명, 부분완치 30명, 실패 20명\n",
    "    - 방법B: 완치 45명, 부분완치 35명, 실패 20명"
   ]
  },
  {
   "cell_type": "code",
   "execution_count": 3,
   "id": "70cf1e65",
   "metadata": {},
   "outputs": [
    {
     "data": {
      "text/html": [
       "<div>\n",
       "<style scoped>\n",
       "    .dataframe tbody tr th:only-of-type {\n",
       "        vertical-align: middle;\n",
       "    }\n",
       "\n",
       "    .dataframe tbody tr th {\n",
       "        vertical-align: top;\n",
       "    }\n",
       "\n",
       "    .dataframe thead th {\n",
       "        text-align: right;\n",
       "    }\n",
       "</style>\n",
       "<table border=\"1\" class=\"dataframe\">\n",
       "  <thead>\n",
       "    <tr style=\"text-align: right;\">\n",
       "      <th></th>\n",
       "      <th>방법</th>\n",
       "      <th>치료결과</th>\n",
       "      <th>빈도</th>\n",
       "    </tr>\n",
       "  </thead>\n",
       "  <tbody>\n",
       "    <tr>\n",
       "      <th>0</th>\n",
       "      <td>방법A</td>\n",
       "      <td>완치</td>\n",
       "      <td>50</td>\n",
       "    </tr>\n",
       "    <tr>\n",
       "      <th>1</th>\n",
       "      <td>방법A</td>\n",
       "      <td>부분완치</td>\n",
       "      <td>30</td>\n",
       "    </tr>\n",
       "    <tr>\n",
       "      <th>2</th>\n",
       "      <td>방법A</td>\n",
       "      <td>실패</td>\n",
       "      <td>20</td>\n",
       "    </tr>\n",
       "    <tr>\n",
       "      <th>3</th>\n",
       "      <td>방법B</td>\n",
       "      <td>완치</td>\n",
       "      <td>45</td>\n",
       "    </tr>\n",
       "    <tr>\n",
       "      <th>4</th>\n",
       "      <td>방법B</td>\n",
       "      <td>부분완치</td>\n",
       "      <td>35</td>\n",
       "    </tr>\n",
       "    <tr>\n",
       "      <th>5</th>\n",
       "      <td>방법B</td>\n",
       "      <td>실패</td>\n",
       "      <td>20</td>\n",
       "    </tr>\n",
       "  </tbody>\n",
       "</table>\n",
       "</div>"
      ],
      "text/plain": [
       "    방법  치료결과  빈도\n",
       "0  방법A    완치  50\n",
       "1  방법A  부분완치  30\n",
       "2  방법A    실패  20\n",
       "3  방법B    완치  45\n",
       "4  방법B  부분완치  35\n",
       "5  방법B    실패  20"
      ]
     },
     "execution_count": 3,
     "metadata": {},
     "output_type": "execute_result"
    }
   ],
   "source": [
    "import pandas as pd\n",
    "from scipy.stats import chi2_contingency\n",
    "\n",
    "data={\n",
    "    '방법': ['방법A','방법A','방법A','방법B','방법B','방법B'],\n",
    "    '치료결과':['완치', '부분완치','실패','완치', '부분완치','실패'],\n",
    "    '빈도':[50,30,20,45,35,20]\n",
    "}\n",
    "df= pd.DataFrame(data)\n",
    "df"
   ]
  },
  {
   "cell_type": "code",
   "execution_count": 4,
   "id": "8b0cbffc",
   "metadata": {},
   "outputs": [
    {
     "name": "stdout",
     "output_type": "stream",
     "text": [
      "교차표(치료 방법별 치료 결과):\n",
      "치료결과  부분완치  실패  완치\n",
      "방법                \n",
      "방법A     30  20  50\n",
      "방법B     35  20  45\n"
     ]
    }
   ],
   "source": [
    "#교차표 생성\n",
    "cross_tab=pd.pivot_table(\n",
    "    df,\n",
    "    index='방법',\n",
    "    columns='치료결과',\n",
    "    values='빈도',\n",
    "    aggfunc='sum'  #집계함수\n",
    "    #margins=True,\n",
    "    #margins_name='합계'\n",
    ")\n",
    "print('교차표(치료 방법별 치료 결과):')\n",
    "print(cross_tab)"
   ]
  },
  {
   "cell_type": "code",
   "execution_count": 5,
   "id": "6102f091",
   "metadata": {},
   "outputs": [
    {
     "name": "stdout",
     "output_type": "stream",
     "text": [
      "기대도수:\n",
      "[[32.5 20.  47.5]\n",
      " [32.5 20.  47.5]]\n",
      "\n",
      "카이제곱 검정 결과\n",
      "카이제곱 통계량: 0.6478\n",
      "p_value: 0.7233\n",
      "자유도: 2\n"
     ]
    }
   ],
   "source": [
    "#동질성 검정 수행\n",
    "chi2, p_value, dof, expected=chi2_contingency(cross_tab)\n",
    "\n",
    "print(f'기대도수:\\n{expected}', end='\\n\\n')\n",
    "print('카이제곱 검정 결과')\n",
    "print(f'카이제곱 통계량: {chi2:.4f}')\n",
    "print(f'p_value: {p_value:.4f}')\n",
    "print(f'자유도: {dof}')"
   ]
  },
  {
   "cell_type": "code",
   "execution_count": 6,
   "id": "4875dfcd",
   "metadata": {},
   "outputs": [
    {
     "name": "stdout",
     "output_type": "stream",
     "text": [
      "귀무가설 채택: 두 치료 방법의 치료 결과 분포는 동일함\n"
     ]
    }
   ],
   "source": [
    "if p_value<alpha:\n",
    "    print('귀무가설 기각: 두 치료 방법의 치료 결과 분포는 동일하지 않음')\n",
    "else:\n",
    "    print('귀무가설 채택: 두 치료 방법의 치료 결과 분포는 동일함')"
   ]
  },
  {
   "cell_type": "markdown",
   "id": "6984901f",
   "metadata": {},
   "source": [
    "### 3. 독립성 검정 = 교차분석\n",
    "- 2개의 요인이 서로 상관관계가 없는 지 검정으로서 교차분석이라고도 함\n",
    "- 독립성 검정을 하기 위한 조건\n",
    "    - 하나의 모집단에 2개의 요인에 대하여 상호 배타적인 여러 수준이 있는 데이터\n",
    "    - 데이터는 랜덤 표집으로 수집되어야 함\n",
    "    - 총빈도수가 충분히 크고(>50), 각 수준별 5개 이상의 기대도수 필요\n",
    "        - 불만족 시, 제1종 오류와 제2종 오류가 증가\n",
    "\n",
    "가설\n",
    "- 귀무가설: 두 요인 변수는 서로 독립적이다(상관관계가 없다).\n",
    "- 대립가설: 두 요인 변수는 서로 독립적이지 않다(상관관계가 있다)."
   ]
  },
  {
   "cell_type": "markdown",
   "id": "21a46257",
   "metadata": {},
   "source": [
    "데이터 수집\n",
    "- 두 변수의 각 수준 조합에 대해 빈도수 수집"
   ]
  },
  {
   "cell_type": "markdown",
   "id": "9bd6ce7e",
   "metadata": {},
   "source": [
    "예시\n",
    "- 상황\n",
    "    - 흡연 여부와 폐암 발생 여부에 대한 조사 실시. 흡연 여부는 비흡연, 흡연으로 구분하고 폐암 발생 여부는 미발생, 발생으로 구분\n",
    "- 데이터 수집\n",
    "    - 비흡연-미발생 50명, 비흡연-발생 10명, 흡연-미발생 20명, 흡연-발생 20명"
   ]
  },
  {
   "cell_type": "code",
   "execution_count": 7,
   "id": "a7a4a90d",
   "metadata": {},
   "outputs": [
    {
     "data": {
      "text/html": [
       "<div>\n",
       "<style scoped>\n",
       "    .dataframe tbody tr th:only-of-type {\n",
       "        vertical-align: middle;\n",
       "    }\n",
       "\n",
       "    .dataframe tbody tr th {\n",
       "        vertical-align: top;\n",
       "    }\n",
       "\n",
       "    .dataframe thead th {\n",
       "        text-align: right;\n",
       "    }\n",
       "</style>\n",
       "<table border=\"1\" class=\"dataframe\">\n",
       "  <thead>\n",
       "    <tr style=\"text-align: right;\">\n",
       "      <th></th>\n",
       "      <th>흡연여부</th>\n",
       "      <th>질병발생</th>\n",
       "      <th>빈도</th>\n",
       "    </tr>\n",
       "  </thead>\n",
       "  <tbody>\n",
       "    <tr>\n",
       "      <th>0</th>\n",
       "      <td>비흡연</td>\n",
       "      <td>미발생</td>\n",
       "      <td>50</td>\n",
       "    </tr>\n",
       "    <tr>\n",
       "      <th>1</th>\n",
       "      <td>비흡연</td>\n",
       "      <td>발생</td>\n",
       "      <td>10</td>\n",
       "    </tr>\n",
       "    <tr>\n",
       "      <th>2</th>\n",
       "      <td>흡연</td>\n",
       "      <td>미발생</td>\n",
       "      <td>20</td>\n",
       "    </tr>\n",
       "    <tr>\n",
       "      <th>3</th>\n",
       "      <td>흡연</td>\n",
       "      <td>발생</td>\n",
       "      <td>20</td>\n",
       "    </tr>\n",
       "  </tbody>\n",
       "</table>\n",
       "</div>"
      ],
      "text/plain": [
       "  흡연여부 질병발생  빈도\n",
       "0  비흡연  미발생  50\n",
       "1  비흡연   발생  10\n",
       "2   흡연  미발생  20\n",
       "3   흡연   발생  20"
      ]
     },
     "execution_count": 7,
     "metadata": {},
     "output_type": "execute_result"
    }
   ],
   "source": [
    "import pandas as pd\n",
    "from scipy.stats import chi2_contingency\n",
    "\n",
    "data={\n",
    "    '흡연여부': ['비흡연','비흡연','흡연','흡연'],\n",
    "    '질병발생':['미발생','발생','미발생','발생'],\n",
    "    '빈도':[50,10,20,20]\n",
    "}\n",
    "df=pd.DataFrame(data)\n",
    "df"
   ]
  },
  {
   "cell_type": "code",
   "execution_count": 8,
   "id": "01c4d918",
   "metadata": {},
   "outputs": [
    {
     "name": "stdout",
     "output_type": "stream",
     "text": [
      "교차표(흡연 여부와 질병 발생): \n"
     ]
    },
    {
     "data": {
      "text/html": [
       "<div>\n",
       "<style scoped>\n",
       "    .dataframe tbody tr th:only-of-type {\n",
       "        vertical-align: middle;\n",
       "    }\n",
       "\n",
       "    .dataframe tbody tr th {\n",
       "        vertical-align: top;\n",
       "    }\n",
       "\n",
       "    .dataframe thead th {\n",
       "        text-align: right;\n",
       "    }\n",
       "</style>\n",
       "<table border=\"1\" class=\"dataframe\">\n",
       "  <thead>\n",
       "    <tr style=\"text-align: right;\">\n",
       "      <th>질병발생</th>\n",
       "      <th>미발생</th>\n",
       "      <th>발생</th>\n",
       "    </tr>\n",
       "    <tr>\n",
       "      <th>흡연여부</th>\n",
       "      <th></th>\n",
       "      <th></th>\n",
       "    </tr>\n",
       "  </thead>\n",
       "  <tbody>\n",
       "    <tr>\n",
       "      <th>비흡연</th>\n",
       "      <td>50</td>\n",
       "      <td>10</td>\n",
       "    </tr>\n",
       "    <tr>\n",
       "      <th>흡연</th>\n",
       "      <td>20</td>\n",
       "      <td>20</td>\n",
       "    </tr>\n",
       "  </tbody>\n",
       "</table>\n",
       "</div>"
      ],
      "text/plain": [
       "질병발생  미발생  발생\n",
       "흡연여부         \n",
       "비흡연    50  10\n",
       "흡연     20  20"
      ]
     },
     "metadata": {},
     "output_type": "display_data"
    },
    {
     "name": "stdout",
     "output_type": "stream",
     "text": [
      "기대도수:\n",
      "[[42. 18.]\n",
      " [28. 12.]]\n",
      "\n",
      "카이제곱 검정 결과\n",
      "카이제곱 통계량: 11.1607\n",
      "p_value: 0.0008\n",
      "자유도: 1\n",
      "\n",
      "귀무가설 기각: 흡연 여부와 질병 발생은 독립적이지 않음(상관관계가 있음)\n"
     ]
    }
   ],
   "source": [
    "cross_tab=pd.pivot_table(\n",
    "    df,\n",
    "    index='흡연여부',\n",
    "    columns='질병발생',\n",
    "    values='빈도',\n",
    "    aggfunc='sum'\n",
    ")\n",
    "print('교차표(흡연 여부와 질병 발생): ')\n",
    "display(cross_tab)\n",
    "\n",
    "#독립성 검정 수행\n",
    "chi2,p_value,dof,expected=chi2_contingency(cross_tab)\n",
    "print(f'기대도수:\\n{expected}', end='\\n\\n')\n",
    "print('카이제곱 검정 결과')\n",
    "print(f'카이제곱 통계량: {chi2:.4f}')\n",
    "print(f'p_value: {p_value:.4f}')\n",
    "print(f'자유도: {dof}\\n')\n",
    "\n",
    "#결론 도출\n",
    "alpha=0.05\n",
    "if p_value<alpha:\n",
    "    print('귀무가설 기각: 흡연 여부와 질병 발생은 독립적이지 않음(상관관계가 있음)')\n",
    "else:\n",
    "    print('귀무가설 채택: 흡연 여부와 질병 발생은 독립적임(상관관계가 없음)')\n"
   ]
  },
  {
   "cell_type": "markdown",
   "id": "34cceedc",
   "metadata": {},
   "source": [
    "## 카이제곱 검정의 보정\n",
    "카이제곱 검정에서 보정이 필요한 이유\n",
    "- 기대도수가 5 이하의 셀이 20%를 넘는 경우 카이제곱 검정은 검정력이 저하됨\n",
    "    - 카이제곱 검정은 교차표에 나타나는 빈도의 비연속형 확률분포가 연속형 분포임 카이제곱 분포를 근사적으로 따른다고 가정하기 때문\n",
    "    - 표본의 크기가 충분히 크지 않으면, 카이제곱 분포로의 근사화가 잘 되지 않아 오류가 증가     \n",
    "\n",
    "피셔의 정확검정을 이용한 카이제곱 검정의 보정\n",
    "- 피셔의 정확검정은 초기하분포 기반의 범주형 데이터의 독립성 검정 방법\n",
    "    - 카이제곱 검정은 이항분포 기반\n",
    "- 주변 빈도가 고정된 상태에서 발생 가능한 모든 조합에 해당하는 자료의 발생 확률을 계산\n",
    "- 표본의 크기가 너무 작거나, 범주가 너무 많아서 범주별 도수가 극도로 작아지는 상황에 주로 사용      "
   ]
  },
  {
   "cell_type": "markdown",
   "id": "68006a93",
   "metadata": {},
   "source": [
    "피셔의 정확검정 예시\n",
    "- 위와 동일한 예시에서 관측도수가 1/10일 때, 카이제곱 검정을 적용한 경우"
   ]
  },
  {
   "cell_type": "code",
   "execution_count": 9,
   "id": "b880d15e",
   "metadata": {},
   "outputs": [
    {
     "name": "stdout",
     "output_type": "stream",
     "text": [
      "교차표(흡연 여부와 질병 발생): \n"
     ]
    },
    {
     "data": {
      "text/html": [
       "<div>\n",
       "<style scoped>\n",
       "    .dataframe tbody tr th:only-of-type {\n",
       "        vertical-align: middle;\n",
       "    }\n",
       "\n",
       "    .dataframe tbody tr th {\n",
       "        vertical-align: top;\n",
       "    }\n",
       "\n",
       "    .dataframe thead th {\n",
       "        text-align: right;\n",
       "    }\n",
       "</style>\n",
       "<table border=\"1\" class=\"dataframe\">\n",
       "  <thead>\n",
       "    <tr style=\"text-align: right;\">\n",
       "      <th>질병발생</th>\n",
       "      <th>미발생</th>\n",
       "      <th>발생</th>\n",
       "    </tr>\n",
       "    <tr>\n",
       "      <th>흡연여부</th>\n",
       "      <th></th>\n",
       "      <th></th>\n",
       "    </tr>\n",
       "  </thead>\n",
       "  <tbody>\n",
       "    <tr>\n",
       "      <th>비흡연</th>\n",
       "      <td>5</td>\n",
       "      <td>1</td>\n",
       "    </tr>\n",
       "    <tr>\n",
       "      <th>흡연</th>\n",
       "      <td>2</td>\n",
       "      <td>2</td>\n",
       "    </tr>\n",
       "  </tbody>\n",
       "</table>\n",
       "</div>"
      ],
      "text/plain": [
       "질병발생  미발생  발생\n",
       "흡연여부         \n",
       "비흡연     5   1\n",
       "흡연      2   2"
      ]
     },
     "metadata": {},
     "output_type": "display_data"
    },
    {
     "name": "stdout",
     "output_type": "stream",
     "text": [
      "기대도수:\n",
      "[[4.2 1.8]\n",
      " [2.8 1.2]]\n",
      "\n",
      "카이제곱 검정 결과\n",
      "카이제곱 통계량: 0.1786\n",
      "p_value: 0.6726\n",
      "자유도: 1\n",
      "\n",
      "귀무가설 채택: 흡연 여부와 질병 발생은 독립적임(상관관계가 없음)\n"
     ]
    }
   ],
   "source": [
    "import pandas as pd\n",
    "from scipy.stats import chi2_contingency\n",
    "\n",
    "data={\n",
    "    '흡연여부': ['비흡연','비흡연','흡연','흡연'],\n",
    "    '질병발생':['미발생','발생','미발생','발생'],\n",
    "    '빈도':[5,1,2,2]\n",
    "}\n",
    "df=pd.DataFrame(data)\n",
    "\n",
    "cross_tab=pd.pivot_table(\n",
    "    df,\n",
    "    index='흡연여부',\n",
    "    columns='질병발생',\n",
    "    values='빈도',\n",
    "    aggfunc='sum'\n",
    ")\n",
    "print('교차표(흡연 여부와 질병 발생): ')\n",
    "display(cross_tab)\n",
    "\n",
    "#독립성 검정 수행\n",
    "chi2,p_value,dof,expected=chi2_contingency(cross_tab)\n",
    "print(f'기대도수:\\n{expected}', end='\\n\\n')\n",
    "print('카이제곱 검정 결과')\n",
    "print(f'카이제곱 통계량: {chi2:.4f}')\n",
    "print(f'p_value: {p_value:.4f}')\n",
    "print(f'자유도: {dof}\\n')\n",
    "\n",
    "#결론 도출\n",
    "alpha=0.05\n",
    "if p_value<alpha:\n",
    "    print('귀무가설 기각: 흡연 여부와 질병 발생은 독립적이지 않음(상관관계가 있음)')\n",
    "else:\n",
    "    print('귀무가설 채택: 흡연 여부와 질병 발생은 독립적임(상관관계가 없음)')\n"
   ]
  },
  {
   "cell_type": "markdown",
   "id": "89f2e402",
   "metadata": {},
   "source": [
    "빈도수가 작아졌기에 귀무가설이 채택됨"
   ]
  },
  {
   "cell_type": "markdown",
   "id": "4c0bf9fb",
   "metadata": {},
   "source": [
    "- 위와 동일한 예시에서 관측도수가 1/10일 때, 피셔의 정확검정을 적용한 경우"
   ]
  },
  {
   "cell_type": "code",
   "execution_count": 10,
   "id": "910ede92",
   "metadata": {},
   "outputs": [
    {
     "name": "stdout",
     "output_type": "stream",
     "text": [
      "교차표(흡연 여부와 질병 발생): \n"
     ]
    },
    {
     "data": {
      "text/html": [
       "<div>\n",
       "<style scoped>\n",
       "    .dataframe tbody tr th:only-of-type {\n",
       "        vertical-align: middle;\n",
       "    }\n",
       "\n",
       "    .dataframe tbody tr th {\n",
       "        vertical-align: top;\n",
       "    }\n",
       "\n",
       "    .dataframe thead th {\n",
       "        text-align: right;\n",
       "    }\n",
       "</style>\n",
       "<table border=\"1\" class=\"dataframe\">\n",
       "  <thead>\n",
       "    <tr style=\"text-align: right;\">\n",
       "      <th>질병발생</th>\n",
       "      <th>미발생</th>\n",
       "      <th>발생</th>\n",
       "    </tr>\n",
       "    <tr>\n",
       "      <th>흡연여부</th>\n",
       "      <th></th>\n",
       "      <th></th>\n",
       "    </tr>\n",
       "  </thead>\n",
       "  <tbody>\n",
       "    <tr>\n",
       "      <th>비흡연</th>\n",
       "      <td>5</td>\n",
       "      <td>1</td>\n",
       "    </tr>\n",
       "    <tr>\n",
       "      <th>흡연</th>\n",
       "      <td>2</td>\n",
       "      <td>2</td>\n",
       "    </tr>\n",
       "  </tbody>\n",
       "</table>\n",
       "</div>"
      ],
      "text/plain": [
       "질병발생  미발생  발생\n",
       "흡연여부         \n",
       "비흡연     5   1\n",
       "흡연      2   2"
      ]
     },
     "metadata": {},
     "output_type": "display_data"
    },
    {
     "name": "stdout",
     "output_type": "stream",
     "text": [
      "기대도수:\n",
      "[[4.2 1.8]\n",
      " [2.8 1.2]]\n",
      "\n",
      "피셔의 정확 검정 결과\n",
      "검정통계량: 5.0000\n",
      "p_value: 0.5000\n",
      "귀무가설 채택: 흡연 여부와 질병 발생은 독립적임(상관관계가 없음)\n"
     ]
    }
   ],
   "source": [
    "from scipy.stats import fisher_exact\n",
    "\n",
    "data={\n",
    "    '흡연여부': ['비흡연','비흡연','흡연','흡연'],\n",
    "    '질병발생':['미발생','발생','미발생','발생'],\n",
    "    '빈도':[5,1,2,2]\n",
    "\n",
    "}\n",
    "df=pd.DataFrame(data)\n",
    "\n",
    "cross_tab=pd.pivot_table(\n",
    "    df,\n",
    "    index='흡연여부',\n",
    "    columns='질병발생',\n",
    "    values='빈도',\n",
    "    aggfunc='sum'\n",
    ")\n",
    "print('교차표(흡연 여부와 질병 발생): ')\n",
    "display(cross_tab)\n",
    "\n",
    "#독립성 검정 수행\n",
    "stat,p_value=fisher_exact(cross_tab)\n",
    "print(f'기대도수:\\n{expected}', end='\\n\\n')\n",
    "print('피셔의 정확 검정 결과')\n",
    "print(f'검정통계량: {stat:.4f}')\n",
    "print(f'p_value: {p_value:.4f}')\n",
    "\n",
    "#결론 도출\n",
    "alpha=0.05\n",
    "if p_value<alpha:\n",
    "    print('귀무가설 기각: 흡연 여부와 질병 발생은 독립적이지 않음(상관관계가 있음)')\n",
    "else:\n",
    "    print('귀무가설 채택: 흡연 여부와 질병 발생은 독립적임(상관관계가 없음)')\n"
   ]
  },
  {
   "cell_type": "markdown",
   "id": "9a752641",
   "metadata": {},
   "source": [
    "귀무가설이 기각되지는 않았지만 검정통계량이 증가하고 p-value가 더 작게 나온 것을 확인할 수 있음 > 연구가설 채택 가능성에 근접함 > 표본이 작을 때 보정해주는 역할을 해 줌"
   ]
  },
  {
   "cell_type": "markdown",
   "id": "ee9f9ccf",
   "metadata": {},
   "source": [
    "## 범주형 데이터 분석 실습"
   ]
  },
  {
   "cell_type": "markdown",
   "id": "b3b6a087",
   "metadata": {},
   "source": [
    "데이터 수집\n",
    "- 3개 변수에 대한 592개의 관측치를 교차 분석하여 얻은 3차원 배열\n",
    "- 변수\n",
    "    - Hair: 머리 색상. Black/Brown/Red/Blond\n",
    "    - Eye: 눈 색상. Brown/Blue/Green/Hazel\n",
    "    - Sex: 성별. Male/Female\n",
    "    - Freq: 빈도수."
   ]
  },
  {
   "cell_type": "code",
   "execution_count": 11,
   "id": "9de85f41",
   "metadata": {},
   "outputs": [
    {
     "name": "stdout",
     "output_type": "stream",
     "text": [
      "<class 'pandas.core.frame.DataFrame'>\n",
      "RangeIndex: 32 entries, 0 to 31\n",
      "Data columns (total 4 columns):\n",
      " #   Column  Non-Null Count  Dtype \n",
      "---  ------  --------------  ----- \n",
      " 0   Hair    32 non-null     object\n",
      " 1   Eye     32 non-null     object\n",
      " 2   Sex     32 non-null     object\n",
      " 3   Freq    32 non-null     int64 \n",
      "dtypes: int64(1), object(3)\n",
      "memory usage: 1.1+ KB\n"
     ]
    }
   ],
   "source": [
    "import pandas as pd\n",
    "import statsmodels.api as sm\n",
    "\n",
    "#데이터셋 로드\n",
    "df=sm.datasets.get_rdataset('HairEyeColor','datasets').data\n",
    "\n",
    "df.info()"
   ]
  },
  {
   "cell_type": "code",
   "execution_count": 12,
   "id": "69fcbb98",
   "metadata": {},
   "outputs": [
    {
     "data": {
      "text/html": [
       "<div>\n",
       "<style scoped>\n",
       "    .dataframe tbody tr th:only-of-type {\n",
       "        vertical-align: middle;\n",
       "    }\n",
       "\n",
       "    .dataframe tbody tr th {\n",
       "        vertical-align: top;\n",
       "    }\n",
       "\n",
       "    .dataframe thead th {\n",
       "        text-align: right;\n",
       "    }\n",
       "</style>\n",
       "<table border=\"1\" class=\"dataframe\">\n",
       "  <thead>\n",
       "    <tr style=\"text-align: right;\">\n",
       "      <th></th>\n",
       "      <th>Hair</th>\n",
       "      <th>Eye</th>\n",
       "      <th>Sex</th>\n",
       "      <th>Freq</th>\n",
       "    </tr>\n",
       "  </thead>\n",
       "  <tbody>\n",
       "    <tr>\n",
       "      <th>0</th>\n",
       "      <td>Black</td>\n",
       "      <td>Brown</td>\n",
       "      <td>Male</td>\n",
       "      <td>32</td>\n",
       "    </tr>\n",
       "    <tr>\n",
       "      <th>1</th>\n",
       "      <td>Brown</td>\n",
       "      <td>Brown</td>\n",
       "      <td>Male</td>\n",
       "      <td>53</td>\n",
       "    </tr>\n",
       "    <tr>\n",
       "      <th>2</th>\n",
       "      <td>Red</td>\n",
       "      <td>Brown</td>\n",
       "      <td>Male</td>\n",
       "      <td>10</td>\n",
       "    </tr>\n",
       "    <tr>\n",
       "      <th>3</th>\n",
       "      <td>Blond</td>\n",
       "      <td>Brown</td>\n",
       "      <td>Male</td>\n",
       "      <td>3</td>\n",
       "    </tr>\n",
       "    <tr>\n",
       "      <th>4</th>\n",
       "      <td>Black</td>\n",
       "      <td>Blue</td>\n",
       "      <td>Male</td>\n",
       "      <td>11</td>\n",
       "    </tr>\n",
       "  </tbody>\n",
       "</table>\n",
       "</div>"
      ],
      "text/plain": [
       "    Hair    Eye   Sex  Freq\n",
       "0  Black  Brown  Male    32\n",
       "1  Brown  Brown  Male    53\n",
       "2    Red  Brown  Male    10\n",
       "3  Blond  Brown  Male     3\n",
       "4  Black   Blue  Male    11"
      ]
     },
     "execution_count": 12,
     "metadata": {},
     "output_type": "execute_result"
    }
   ],
   "source": [
    "df.head()"
   ]
  },
  {
   "cell_type": "markdown",
   "id": "b5dc11fd",
   "metadata": {},
   "source": [
    "### 1. 적합성 검정\n",
    "- 머리 색상의 분포가 1:1:1:1 비율을 따르는 지 검정"
   ]
  },
  {
   "cell_type": "code",
   "execution_count": 13,
   "id": "b9359566",
   "metadata": {},
   "outputs": [
    {
     "name": "stdout",
     "output_type": "stream",
     "text": [
      "교차표(Hair):\n"
     ]
    },
    {
     "data": {
      "text/html": [
       "<div>\n",
       "<style scoped>\n",
       "    .dataframe tbody tr th:only-of-type {\n",
       "        vertical-align: middle;\n",
       "    }\n",
       "\n",
       "    .dataframe tbody tr th {\n",
       "        vertical-align: top;\n",
       "    }\n",
       "\n",
       "    .dataframe thead th {\n",
       "        text-align: right;\n",
       "    }\n",
       "</style>\n",
       "<table border=\"1\" class=\"dataframe\">\n",
       "  <thead>\n",
       "    <tr style=\"text-align: right;\">\n",
       "      <th>Hair</th>\n",
       "      <th>Black</th>\n",
       "      <th>Blond</th>\n",
       "      <th>Brown</th>\n",
       "      <th>Red</th>\n",
       "    </tr>\n",
       "  </thead>\n",
       "  <tbody>\n",
       "    <tr>\n",
       "      <th>Freq</th>\n",
       "      <td>108</td>\n",
       "      <td>127</td>\n",
       "      <td>286</td>\n",
       "      <td>71</td>\n",
       "    </tr>\n",
       "  </tbody>\n",
       "</table>\n",
       "</div>"
      ],
      "text/plain": [
       "Hair  Black  Blond  Brown  Red\n",
       "Freq    108    127    286   71"
      ]
     },
     "metadata": {},
     "output_type": "display_data"
    }
   ],
   "source": [
    "from scipy.stats import chisquare,chi2_contingency\n",
    "\n",
    "alpha=0.05\n",
    "\n",
    "cross_tab=pd.pivot_table(\n",
    "    df,\n",
    "    values='Freq',\n",
    "    columns='Hair',\n",
    "    aggfunc='sum',\n",
    "    fill_value=0 #결측값을 0으로 채움\n",
    ")\n",
    "\n",
    "print('교차표(Hair):')\n",
    "display(cross_tab)"
   ]
  },
  {
   "cell_type": "code",
   "execution_count": 14,
   "id": "d81f9637",
   "metadata": {},
   "outputs": [
    {
     "name": "stdout",
     "output_type": "stream",
     "text": [
      "카이제곱 통계량: 182.5270\n",
      "p_value: 0.0000\n",
      "귀무가설 기각: 머리 색상은 예상 비율과 일치하지 않음\n"
     ]
    }
   ],
   "source": [
    "total=cross_tab.loc['Freq'].sum()\n",
    "\n",
    "#예상비율\n",
    "expected_ratios=[0.25,0.25,0.25,0.25]\n",
    "expected=[total*ratio for ratio in expected_ratios]\n",
    "\n",
    "#적합성 검정 수행\n",
    "chi2_stat,p_value=chisquare(f_obs=cross_tab.loc['Freq'], f_exp=expected)\n",
    "print(f'카이제곱 통계량: {chi2_stat:.4f}')\n",
    "print(f'p_value: {p_value:.4f}')\n",
    "if p_value <0.05:\n",
    "    print('귀무가설 기각: 머리 색상은 예상 비율과 일치하지 않음')\n",
    "else:\n",
    "    print('귀무가설 채택: 머리 색상은 예상 비율과 일치함')\n"
   ]
  }
 ],
 "metadata": {
  "kernelspec": {
   "display_name": "stat",
   "language": "python",
   "name": "python3"
  },
  "language_info": {
   "codemirror_mode": {
    "name": "ipython",
    "version": 3
   },
   "file_extension": ".py",
   "mimetype": "text/x-python",
   "name": "python",
   "nbconvert_exporter": "python",
   "pygments_lexer": "ipython3",
   "version": "3.10.18"
  }
 },
 "nbformat": 4,
 "nbformat_minor": 5
}
